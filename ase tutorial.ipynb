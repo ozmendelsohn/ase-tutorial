{
 "cells": [
  {
   "cell_type": "code",
   "execution_count": 1,
   "id": "38a45196-e3e7-4f28-9d27-25a12b33ddae",
   "metadata": {
    "tags": []
   },
   "outputs": [],
   "source": [
    "import numpy as np\n",
    "from matplotlib import pyplot as plt\n",
    "from tqdm.notebook import tqdm\n",
    "from copy import copy\n",
    "import os"
   ]
  },
  {
   "cell_type": "markdown",
   "id": "23493766-f2e6-4ef8-8051-7e815f720aae",
   "metadata": {},
   "source": [
    "# Atoms Object"
   ]
  },
  {
   "cell_type": "markdown",
   "id": "d8df686b-5981-4a37-833d-c1c0c49e3e32",
   "metadata": {},
   "source": [
    "https://wiki.fysik.dtu.dk/ase/ase/atoms.html#module-ase.atoms"
   ]
  },
  {
   "cell_type": "code",
   "execution_count": 2,
   "id": "097c95a5-7c85-4177-a9a6-5c4ec2469fbe",
   "metadata": {
    "tags": []
   },
   "outputs": [
    {
     "data": {
      "application/vnd.jupyter.widget-view+json": {
       "model_id": "f14291e82eae43a7bd218d009f75e350",
       "version_major": 2,
       "version_minor": 0
      },
      "text/plain": []
     },
     "metadata": {},
     "output_type": "display_data"
    },
    {
     "data": {
      "application/vnd.jupyter.widget-view+json": {
       "model_id": "a85cf988f8264a938699be6557695898",
       "version_major": 2,
       "version_minor": 0
      },
      "text/plain": [
       "HBox(children=(NGLWidget(), VBox(children=(Dropdown(description='Show', options=('All', 'C', 'O'), value='All'…"
      ]
     },
     "metadata": {},
     "output_type": "display_data"
    }
   ],
   "source": [
    "from ase import Atoms, Atom\n",
    "from ase.visualize import ngl\n",
    "d = 1.1\n",
    "co = Atoms('CO', positions=[(0, 0, 0), (0, 0, d)])\n",
    "ngl.view_ngl(co, w=500, h=500)"
   ]
  },
  {
   "cell_type": "markdown",
   "id": "a37c12c2-073b-4631-85ca-8354488dff00",
   "metadata": {},
   "source": [
    "## Positions"
   ]
  },
  {
   "cell_type": "code",
   "execution_count": 3,
   "id": "8b2aa455-6f58-4122-989b-e67b8e457eba",
   "metadata": {
    "tags": []
   },
   "outputs": [
    {
     "data": {
      "text/plain": [
       "array([[0. , 0. , 0. ],\n",
       "       [0. , 0. , 1.1]])"
      ]
     },
     "execution_count": 3,
     "metadata": {},
     "output_type": "execute_result"
    }
   ],
   "source": [
    "co.positions"
   ]
  },
  {
   "cell_type": "code",
   "execution_count": 4,
   "id": "adcae681-ac33-476e-aaf1-3fe5a7962e41",
   "metadata": {
    "tags": []
   },
   "outputs": [
    {
     "data": {
      "text/plain": [
       "array([[0. , 0. , 0. ],\n",
       "       [0. , 0. , 1.1]])"
      ]
     },
     "execution_count": 4,
     "metadata": {},
     "output_type": "execute_result"
    }
   ],
   "source": [
    "co.get_positions()"
   ]
  },
  {
   "cell_type": "code",
   "execution_count": 5,
   "id": "b9aed9d4-8529-4f77-afc7-505590ec13a1",
   "metadata": {
    "tags": []
   },
   "outputs": [
    {
     "data": {
      "text/plain": [
       "<bound method Atoms.set_positions of Atoms(symbols='CO', pbc=False)>"
      ]
     },
     "execution_count": 5,
     "metadata": {},
     "output_type": "execute_result"
    }
   ],
   "source": [
    "co.set_positions"
   ]
  },
  {
   "cell_type": "code",
   "execution_count": 6,
   "id": "1b59936f-a62d-4d91-9bb1-b2e186b0cd85",
   "metadata": {
    "tags": []
   },
   "outputs": [
    {
     "data": {
      "text/plain": [
       "array([[0., 0., 0.],\n",
       "       [0., 0., 1.]])"
      ]
     },
     "execution_count": 6,
     "metadata": {},
     "output_type": "execute_result"
    }
   ],
   "source": [
    "co.positions[1, 2] = 1\n",
    "co.positions"
   ]
  },
  {
   "cell_type": "code",
   "execution_count": 7,
   "id": "8424e293-f363-49b2-9431-7dd8e7164829",
   "metadata": {
    "tags": []
   },
   "outputs": [
    {
     "data": {
      "text/plain": [
       "array([[0., 0., 0.],\n",
       "       [0., 0., 7.]])"
      ]
     },
     "execution_count": 7,
     "metadata": {},
     "output_type": "execute_result"
    }
   ],
   "source": [
    "co.set_positions(np.array([[   0.,    0.,    0.],\n",
    "                           [   0.,    0., 7.]]))\n",
    "co.positions"
   ]
  },
  {
   "cell_type": "markdown",
   "id": "6d3a2334-2cf8-4603-bfcf-3516a543b164",
   "metadata": {},
   "source": [
    "## Calculator"
   ]
  },
  {
   "cell_type": "code",
   "execution_count": 8,
   "id": "b3d42d13-848d-4e6b-ba11-234092bd7e55",
   "metadata": {},
   "outputs": [],
   "source": [
    "from ase.calculators.emt import EMT\n",
    "co.calc = EMT()"
   ]
  },
  {
   "cell_type": "code",
   "execution_count": 9,
   "id": "770252a1-25d8-40a8-b162-edef6c36be50",
   "metadata": {},
   "outputs": [],
   "source": [
    "#co.get_potential_energy()"
   ]
  },
  {
   "cell_type": "code",
   "execution_count": 10,
   "id": "b6d5abc5-1805-420a-b7eb-4b96bbd4abd3",
   "metadata": {},
   "outputs": [
    {
     "data": {
      "text/plain": [
       "array([[0., 0., 0.],\n",
       "       [0., 0., 0.]])"
      ]
     },
     "execution_count": 10,
     "metadata": {},
     "output_type": "execute_result"
    }
   ],
   "source": [
    "co.get_forces()"
   ]
  },
  {
   "cell_type": "code",
   "execution_count": 11,
   "id": "59525177-b303-414d-baa3-7266d7f3faf6",
   "metadata": {},
   "outputs": [
    {
     "name": "stdout",
     "output_type": "stream",
     "text": [
      "0.5, 10.566\n",
      "0.6, 6.432\n",
      "0.7, 3.717\n",
      "0.8, 2.040\n",
      "0.9, 1.113\n",
      "1.0, 0.720\n",
      "1.1, 0.697\n",
      "1.2, 0.923\n",
      "1.3, 1.309\n",
      "1.4, 1.789\n",
      "1.5, 2.317\n",
      "1.6, 2.859\n",
      "1.7, 3.394\n"
     ]
    }
   ],
   "source": [
    "for d in np.arange(0.5, 1.8, 0.1):\n",
    "    co.positions[1, 2] = d\n",
    "    print(f'{d:.1f}, {co.get_potential_energy():.3f}')"
   ]
  },
  {
   "cell_type": "code",
   "execution_count": 12,
   "id": "82831d2f-9874-4bd8-bb86-ab4251df2807",
   "metadata": {},
   "outputs": [],
   "source": [
    "x, y = [], [] \n",
    "for d in np.arange(0.5, 1.5, 0.001):\n",
    "    co.positions[1, 2] = d\n",
    "    x.append(d)\n",
    "    y.append(co.get_potential_energy())"
   ]
  },
  {
   "cell_type": "code",
   "execution_count": 13,
   "id": "2c8cfb1f-b84a-4309-9d88-bfda7a6e5df6",
   "metadata": {},
   "outputs": [
    {
     "data": {
      "text/plain": [
       "[<matplotlib.lines.Line2D at 0x2b0b33eee700>]"
      ]
     },
     "execution_count": 13,
     "metadata": {},
     "output_type": "execute_result"
    },
    {
     "data": {
      "image/png": "[encoded data removed]",
      "text/plain": [
       "<Figure size 432x288 with 1 Axes>"
      ]
     },
     "metadata": {
      "needs_background": "light"
     },
     "output_type": "display_data"
    }
   ],
   "source": [
    "plt.plot(x, y)"
   ]
  },
  {
   "cell_type": "code",
   "execution_count": 14,
   "id": "8474ca5c-4149-4510-a34b-436f38222f16",
   "metadata": {},
   "outputs": [
    {
     "data": {
      "text/plain": [
       "array([[ 0.00000000e+00,  0.00000000e+00, -1.19232346e-06],\n",
       "       [ 0.00000000e+00,  0.00000000e+00,  1.19232346e-06]])"
      ]
     },
     "execution_count": 14,
     "metadata": {},
     "output_type": "execute_result"
    }
   ],
   "source": [
    "co.positions[1, 2] = 1.05597\n",
    "co.get_forces()"
   ]
  },
  {
   "cell_type": "markdown",
   "id": "c74930bc-b787-44b8-a075-d6f6726fb797",
   "metadata": {},
   "source": [
    "# Atoms Manipulation"
   ]
  },
  {
   "cell_type": "markdown",
   "id": "594d29d9-679e-4da6-bd4a-c6865a133054",
   "metadata": {},
   "source": [
    "## Crystal Structure"
   ]
  },
  {
   "cell_type": "code",
   "execution_count": 15,
   "id": "ec0113d2-429a-4aed-bbc7-31c9212f4700",
   "metadata": {},
   "outputs": [
    {
     "data": {
      "application/vnd.jupyter.widget-view+json": {
       "model_id": "d1df4f407efe404f9162b17c036ae0f1",
       "version_major": 2,
       "version_minor": 0
      },
      "text/plain": [
       "HBox(children=(NGLWidget(), VBox(children=(Dropdown(description='Show', options=('All', 'Ni'), value='All'), D…"
      ]
     },
     "metadata": {},
     "output_type": "display_data"
    }
   ],
   "source": [
    "a = 3.519\n",
    "atoms = Atoms([Atom('Ni', (0, 0, 0)), \n",
    "               Atom('Ni', (0, a/2, a/2)),\n",
    "               Atom('Ni', (a/2, 0, a/2)),\n",
    "               Atom('Ni', (a/2, a/2, 0))])\n",
    "ngl.view_ngl(atoms, w=300, h=300)"
   ]
  },
  {
   "cell_type": "code",
   "execution_count": 16,
   "id": "5b07d064-6ba4-43e1-b2a5-9cb680cc5795",
   "metadata": {},
   "outputs": [
    {
     "data": {
      "application/vnd.jupyter.widget-view+json": {
       "model_id": "2302d79fe72e4f1bb7a9345d7a215984",
       "version_major": 2,
       "version_minor": 0
      },
      "text/plain": [
       "HBox(children=(NGLWidget(), VBox(children=(Dropdown(description='Show', options=('All', 'Ni'), value='All'), D…"
      ]
     },
     "metadata": {},
     "output_type": "display_data"
    }
   ],
   "source": [
    "b = 10\n",
    "atoms.set_positions([(0, 0, 0), \n",
    "                     (0, b, b), \n",
    "                     (b, 0, b), \n",
    "                     (b, b, 0)])\n",
    "ngl.view_ngl(atoms, w=300, h=300)"
   ]
  },
  {
   "cell_type": "code",
   "execution_count": 17,
   "id": "eb4f0d0a-3502-4876-aa85-7802d9040194",
   "metadata": {},
   "outputs": [],
   "source": [
    "atoms.set_positions([(0, 0, 0), \n",
    "                     (0, a/2, a/2), \n",
    "                     (a/2, 0, a/2), \n",
    "                     (a/2, a/2, 0)])"
   ]
  },
  {
   "cell_type": "code",
   "execution_count": 18,
   "id": "b7786200-4b2d-458e-b09c-cf7ce55e976b",
   "metadata": {},
   "outputs": [
    {
     "data": {
      "text/plain": [
       "Cell([0.0, 0.0, 0.0])"
      ]
     },
     "execution_count": 18,
     "metadata": {},
     "output_type": "execute_result"
    }
   ],
   "source": [
    "atoms.cell"
   ]
  },
  {
   "cell_type": "code",
   "execution_count": 19,
   "id": "50d5123c-5c01-42d0-b957-b57cacdc3f9b",
   "metadata": {},
   "outputs": [],
   "source": [
    "atoms.set_cell([a, a, a])"
   ]
  },
  {
   "cell_type": "code",
   "execution_count": 20,
   "id": "9e526f27-20eb-4d5c-a608-55c8af002be4",
   "metadata": {},
   "outputs": [
    {
     "data": {
      "text/plain": [
       "array([[3.519, 0.   , 0.   ],\n",
       "       [0.   , 3.519, 0.   ],\n",
       "       [0.   , 0.   , 3.519]])"
      ]
     },
     "execution_count": 20,
     "metadata": {},
     "output_type": "execute_result"
    }
   ],
   "source": [
    "atoms.cell[:]"
   ]
  },
  {
   "cell_type": "code",
   "execution_count": 21,
   "id": "5379815b-5f37-4aca-9703-b44d1d19b657",
   "metadata": {},
   "outputs": [],
   "source": [
    "atoms.set_pbc(True)"
   ]
  },
  {
   "cell_type": "code",
   "execution_count": 22,
   "id": "74f8e278-07e0-43d2-bd82-f5b5ac9140ab",
   "metadata": {},
   "outputs": [
    {
     "data": {
      "application/vnd.jupyter.widget-view+json": {
       "model_id": "72472097e0054134b7524d9701a4dc46",
       "version_major": 2,
       "version_minor": 0
      },
      "text/plain": [
       "HBox(children=(NGLWidget(), VBox(children=(Dropdown(description='Show', options=('All', 'Ni'), value='All'), D…"
      ]
     },
     "metadata": {},
     "output_type": "display_data"
    }
   ],
   "source": [
    "ngl.view_ngl(atoms, w=300, h=300)"
   ]
  },
  {
   "cell_type": "code",
   "execution_count": 23,
   "id": "b6f67379-9adb-4037-87b3-e4fa866943be",
   "metadata": {},
   "outputs": [
    {
     "data": {
      "application/vnd.jupyter.widget-view+json": {
       "model_id": "25662b22cbc8494986543bf49e1106e2",
       "version_major": 2,
       "version_minor": 0
      },
      "text/plain": [
       "HBox(children=(NGLWidget(), VBox(children=(Dropdown(description='Show', options=('All', 'Ni'), value='All'), D…"
      ]
     },
     "metadata": {},
     "output_type": "display_data"
    }
   ],
   "source": [
    "ngl.view_ngl(atoms*2, w=300, h=300)"
   ]
  },
  {
   "cell_type": "code",
   "execution_count": 24,
   "id": "6ab3e1b3-14e8-420b-bc55-cca90c75144a",
   "metadata": {},
   "outputs": [
    {
     "data": {
      "application/vnd.jupyter.widget-view+json": {
       "model_id": "0efeef0fb8444ff88a95f64da2deb277",
       "version_major": 2,
       "version_minor": 0
      },
      "text/plain": [
       "HBox(children=(NGLWidget(), VBox(children=(Dropdown(description='Show', options=('All', 'Ni'), value='All'), D…"
      ]
     },
     "metadata": {},
     "output_type": "display_data"
    }
   ],
   "source": [
    "ngl.view_ngl(atoms*[1, 2, 4], w=300, h=300)"
   ]
  },
  {
   "cell_type": "code",
   "execution_count": 25,
   "id": "db8b880a-d6ed-4663-8bd8-5c1ab7172e25",
   "metadata": {},
   "outputs": [
    {
     "data": {
      "text/plain": [
       "-0.03608712213194565"
      ]
     },
     "execution_count": 25,
     "metadata": {},
     "output_type": "execute_result"
    }
   ],
   "source": [
    "atoms.calc = EMT()\n",
    "atoms.get_potential_energy()"
   ]
  },
  {
   "cell_type": "code",
   "execution_count": 26,
   "id": "104db7b3-0cc8-4453-9c0f-1bc06679d906",
   "metadata": {},
   "outputs": [
    {
     "data": {
      "text/plain": [
       "-0.009021780532993517"
      ]
     },
     "execution_count": 26,
     "metadata": {},
     "output_type": "execute_result"
    }
   ],
   "source": [
    "a = 3.519\n",
    "atoms = Atoms([Atom('Ni', (0, 0, 0))])\n",
    "atoms.set_cell([[a/2, a/2, 0], \n",
    "                [0, a/2, a/2],\n",
    "                [a/2, 0, a/2]])\n",
    "atoms.set_pbc(True)\n",
    "atoms.calc = EMT()\n",
    "atoms.get_potential_energy()"
   ]
  },
  {
   "cell_type": "code",
   "execution_count": 27,
   "id": "8e7a6486-53ee-44fc-9b28-42fb359212ac",
   "metadata": {},
   "outputs": [
    {
     "data": {
      "application/vnd.jupyter.widget-view+json": {
       "model_id": "ca5a9468a9f84dd987361f00f36dcc11",
       "version_major": 2,
       "version_minor": 0
      },
      "text/plain": [
       "HBox(children=(NGLWidget(), VBox(children=(Dropdown(description='Show', options=('All', 'Ni'), value='All'), D…"
      ]
     },
     "metadata": {},
     "output_type": "display_data"
    }
   ],
   "source": [
    "ngl.view_ngl(atoms, w=300, h=300)"
   ]
  },
  {
   "cell_type": "code",
   "execution_count": 28,
   "id": "5ae906bc-4c52-408c-894d-199195af88d3",
   "metadata": {},
   "outputs": [
    {
     "data": {
      "text/plain": [
       "array([[1.7595, 1.7595, 0.    ],\n",
       "       [0.    , 1.7595, 1.7595],\n",
       "       [1.7595, 0.    , 1.7595]])"
      ]
     },
     "execution_count": 28,
     "metadata": {},
     "output_type": "execute_result"
    }
   ],
   "source": [
    "atoms.cell\n",
    "atoms.cell[:]"
   ]
  },
  {
   "cell_type": "markdown",
   "id": "e31b3525-cbaa-4cf3-a6eb-931dfaad7977",
   "metadata": {},
   "source": [
    "## Super Cell"
   ]
  },
  {
   "cell_type": "code",
   "execution_count": 29,
   "id": "b67482b6-6fc9-46f8-acf9-d315c8f75e70",
   "metadata": {},
   "outputs": [
    {
     "data": {
      "application/vnd.jupyter.widget-view+json": {
       "model_id": "81c607d6967b44268524336e9dbb5399",
       "version_major": 2,
       "version_minor": 0
      },
      "text/plain": [
       "HBox(children=(NGLWidget(), VBox(children=(Dropdown(description='Show', options=('All', 'Si'), value='All'), D…"
      ]
     },
     "metadata": {},
     "output_type": "display_data"
    }
   ],
   "source": [
    "a = 5.4307\n",
    "atoms = Atoms([Atom('Si', (0, 0, 0)), \n",
    "               Atom('Si', (0, a/2, a/2)),\n",
    "               Atom('Si', (a/2, 0, a/2)),\n",
    "               Atom('Si', (a/2, a/2, 0))])\n",
    "ngl.view_ngl(atoms, w=300, h=300)"
   ]
  },
  {
   "cell_type": "code",
   "execution_count": 30,
   "id": "bad0784a-b44a-457e-90b8-28c634cfd1a8",
   "metadata": {},
   "outputs": [
    {
     "name": "stdout",
     "output_type": "stream",
     "text": [
      "Atoms(symbols='Si8', pbc=False)\n"
     ]
    }
   ],
   "source": [
    "supercell = atoms + atoms\n",
    "print(supercell)"
   ]
  },
  {
   "cell_type": "code",
   "execution_count": 31,
   "id": "fcbae1bb-35fa-44f9-9a02-6984b405649e",
   "metadata": {},
   "outputs": [
    {
     "data": {
      "text/plain": [
       "array([[0.     , 0.     , 0.     ],\n",
       "       [0.     , 2.71535, 2.71535],\n",
       "       [2.71535, 0.     , 2.71535],\n",
       "       [2.71535, 2.71535, 0.     ],\n",
       "       [0.     , 0.     , 0.     ],\n",
       "       [0.     , 2.71535, 2.71535],\n",
       "       [2.71535, 0.     , 2.71535],\n",
       "       [2.71535, 2.71535, 0.     ]])"
      ]
     },
     "execution_count": 31,
     "metadata": {},
     "output_type": "execute_result"
    }
   ],
   "source": [
    "supercell.positions"
   ]
  },
  {
   "cell_type": "code",
   "execution_count": 32,
   "id": "d0d6a945-28f7-49c6-b6f1-1fcc5d739c66",
   "metadata": {},
   "outputs": [],
   "source": [
    "translate_atoms = atoms.copy()\n",
    "translate_atoms.translate([0.25*a, 0.25*a, 0.25*a])"
   ]
  },
  {
   "cell_type": "code",
   "execution_count": 33,
   "id": "5d338ba3-4a81-4237-8b9e-229630552383",
   "metadata": {},
   "outputs": [],
   "source": [
    "supercell = atoms + translate_atoms\n",
    "supercell.set_cell([a, a, a])\n",
    "supercell.set_pbc(True)"
   ]
  },
  {
   "cell_type": "code",
   "execution_count": 34,
   "id": "adfec76d-fda2-47c7-9025-e0af6b1b77fd",
   "metadata": {},
   "outputs": [
    {
     "data": {
      "application/vnd.jupyter.widget-view+json": {
       "model_id": "f9e54e76671348b89f2200d01dccb502",
       "version_major": 2,
       "version_minor": 0
      },
      "text/plain": [
       "HBox(children=(NGLWidget(), VBox(children=(Dropdown(description='Show', options=('All', 'Si'), value='All'), D…"
      ]
     },
     "metadata": {},
     "output_type": "display_data"
    }
   ],
   "source": [
    "ngl.view_ngl(supercell, w=300, h=300)"
   ]
  },
  {
   "cell_type": "markdown",
   "id": "2c0e0b5a-883f-4616-8587-e3d9a1ce3f8e",
   "metadata": {},
   "source": [
    "## Organic"
   ]
  },
  {
   "cell_type": "code",
   "execution_count": 35,
   "id": "d39bb662-d57d-47af-be95-4add4ee1ed5c",
   "metadata": {},
   "outputs": [
    {
     "data": {
      "application/vnd.jupyter.widget-view+json": {
       "model_id": "242ce3f3bb9c4059a6baaa9648c30895",
       "version_major": 2,
       "version_minor": 0
      },
      "text/plain": [
       "HBox(children=(NGLWidget(), VBox(children=(Dropdown(description='Show', options=('All', 'H', 'C'), value='All'…"
      ]
     },
     "metadata": {},
     "output_type": "display_data"
    }
   ],
   "source": [
    "from ase.io import read, write\n",
    "molecule = read('ethylbenzene.xyz')\n",
    "ngl.view_ngl(molecule, w=400, h=400)"
   ]
  },
  {
   "cell_type": "code",
   "execution_count": 36,
   "id": "2ac8eb0d-c7bd-4ade-9da5-21faf9542acc",
   "metadata": {},
   "outputs": [
    {
     "data": {
      "application/vnd.jupyter.widget-view+json": {
       "model_id": "57b360b8f37e4fd7bacaced1cf3c0364",
       "version_major": 2,
       "version_minor": 0
      },
      "text/plain": [
       "HBox(children=(NGLWidget(), VBox(children=(Dropdown(description='Show', options=('All', 'H', 'C'), value='All'…"
      ]
     },
     "metadata": {},
     "output_type": "display_data"
    }
   ],
   "source": [
    "molecule_pop = molecule.copy()\n",
    "molecule_pop.pop(1)\n",
    "ngl.view_ngl(molecule_pop, w=300, h=300) # 1 2 3 5 6 7 10 11 15 16 17"
   ]
  },
  {
   "cell_type": "code",
   "execution_count": 37,
   "id": "c67ab247-e04c-4355-91d9-32bab0387ed5",
   "metadata": {},
   "outputs": [
    {
     "data": {
      "text/plain": [
       "array([0, 1, 1, 1, 0, 1, 1, 1, 0, 0, 1, 1, 0, 0, 0, 1, 1, 1])"
      ]
     },
     "execution_count": 37,
     "metadata": {},
     "output_type": "execute_result"
    }
   ],
   "source": [
    "tags = np.zeros(len(molecule))\n",
    "tags[np.array([1,2,3,5,6,7,10,11,15,16,17])] = 1\n",
    "molecule.set_tags(tags)\n",
    "molecule.get_tags()"
   ]
  },
  {
   "cell_type": "code",
   "execution_count": 38,
   "id": "973dad40-b39f-45bb-8c18-16e45f62fd38",
   "metadata": {},
   "outputs": [
    {
     "data": {
      "text/plain": [
       "Atoms(symbols='C6H5', pbc=False, initial_charges=..., tags=...)"
      ]
     },
     "execution_count": 38,
     "metadata": {},
     "output_type": "execute_result"
    }
   ],
   "source": [
    "molecule[molecule.get_tags() == 1]"
   ]
  },
  {
   "cell_type": "code",
   "execution_count": 39,
   "id": "c2837cbb-fe40-4c5f-9563-60788c67db54",
   "metadata": {},
   "outputs": [
    {
     "data": {
      "application/vnd.jupyter.widget-view+json": {
       "model_id": "070160d207a646369c159b1c033a95ba",
       "version_major": 2,
       "version_minor": 0
      },
      "text/plain": [
       "HBox(children=(NGLWidget(), VBox(children=(Dropdown(description='Show', options=('All', 'H', 'C'), value='All'…"
      ]
     },
     "metadata": {},
     "output_type": "display_data"
    }
   ],
   "source": [
    "ngl.view_ngl(molecule[molecule.get_tags() == 1], w=400, h=400)"
   ]
  },
  {
   "cell_type": "code",
   "execution_count": 40,
   "id": "41957dcf-d379-4014-b526-3dd0ab278c83",
   "metadata": {},
   "outputs": [],
   "source": [
    "molecule.positions -= molecule.positions[1]"
   ]
  },
  {
   "cell_type": "code",
   "execution_count": 41,
   "id": "669e2885-695d-439e-a577-53cc2d64a249",
   "metadata": {},
   "outputs": [
    {
     "data": {
      "text/plain": [
       "array([0., 0., 0.])"
      ]
     },
     "execution_count": 41,
     "metadata": {},
     "output_type": "execute_result"
    }
   ],
   "source": [
    "molecule.positions[1]"
   ]
  },
  {
   "cell_type": "code",
   "execution_count": 42,
   "id": "94d7858d-2a8d-4263-93eb-d064c21d012d",
   "metadata": {},
   "outputs": [
    {
     "data": {
      "text/plain": [
       "array([-2.742e+00, -2.000e-04, -5.144e-01])"
      ]
     },
     "execution_count": 42,
     "metadata": {},
     "output_type": "execute_result"
    }
   ],
   "source": [
    "molecule.positions[7]"
   ]
  },
  {
   "cell_type": "code",
   "execution_count": 43,
   "id": "3e76e275-f226-4cce-a303-c3fbf80465d3",
   "metadata": {},
   "outputs": [],
   "source": [
    "from numpy import pi ,sin, cos\n",
    "\n",
    "def R(theta, u):\n",
    "    return np.array([[cos(theta) + u[0]**2 * (1-cos(theta)), \n",
    "             u[0] * u[1] * (1-cos(theta)) - u[2] * sin(theta), \n",
    "             u[0] * u[2] * (1 - cos(theta)) + u[1] * sin(theta)],\n",
    "            [u[0] * u[1] * (1-cos(theta)) + u[2] * sin(theta),\n",
    "             cos(theta) + u[1]**2 * (1-cos(theta)),\n",
    "             u[1] * u[2] * (1 - cos(theta)) - u[0] * sin(theta)],\n",
    "            [u[0] * u[2] * (1-cos(theta)) - u[1] * sin(theta),\n",
    "             u[1] * u[2] * (1-cos(theta)) + u[0] * sin(theta),\n",
    "             cos(theta) + u[2]**2 * (1-cos(theta))]])\n",
    "\n",
    "u = molecule.positions[7]/np.linalg.norm(molecule.positions[7])"
   ]
  },
  {
   "cell_type": "code",
   "execution_count": 44,
   "id": "54aebfb6-0dee-42cb-9f18-6191774f5f0d",
   "metadata": {},
   "outputs": [
    {
     "data": {
      "application/vnd.jupyter.widget-view+json": {
       "model_id": "5838de7f8c264820a53131cfb6ac777c",
       "version_major": 2,
       "version_minor": 0
      },
      "text/plain": [
       "HBox(children=(NGLWidget(), VBox(children=(Dropdown(description='Show', options=('All', 'H', 'C'), value='All'…"
      ]
     },
     "metadata": {},
     "output_type": "display_data"
    }
   ],
   "source": [
    "ngl.view_ngl(molecule, w=500, h=500)"
   ]
  },
  {
   "cell_type": "code",
   "execution_count": 45,
   "id": "af54a8fd-fa14-49cf-b896-7fc6f9d9b27f",
   "metadata": {},
   "outputs": [],
   "source": [
    "molecule_rot = molecule.copy()\n",
    "positions = molecule_rot.positions\n",
    "positions[molecule_rot.get_tags()==1] = R(np.pi/2, u).dot(positions[molecule_rot.get_tags()==1].T).T\n",
    "molecule_rot.set_positions(positions)"
   ]
  },
  {
   "cell_type": "code",
   "execution_count": 46,
   "id": "a2accf8d-a7f3-4411-a15c-eb3cb3147c5d",
   "metadata": {},
   "outputs": [
    {
     "data": {
      "application/vnd.jupyter.widget-view+json": {
       "model_id": "d79ca0ba6e6847479be26203ebe9b8f1",
       "version_major": 2,
       "version_minor": 0
      },
      "text/plain": [
       "HBox(children=(NGLWidget(), VBox(children=(Dropdown(description='Show', options=('All', 'H', 'C'), value='All'…"
      ]
     },
     "metadata": {},
     "output_type": "display_data"
    }
   ],
   "source": [
    "ngl.view_ngl(molecule_rot, w=500, h=500)"
   ]
  },
  {
   "cell_type": "code",
   "execution_count": 47,
   "id": "2193efcc-05f0-4039-98f4-eff7d1e8b0ea",
   "metadata": {},
   "outputs": [
    {
     "data": {
      "application/vnd.jupyter.widget-view+json": {
       "model_id": "089cced684bb44c4810fbf0b31530e1e",
       "version_major": 2,
       "version_minor": 0
      },
      "text/plain": [
       "HBox(children=(NGLWidget(max_frame=99), VBox(children=(Dropdown(description='Show', options=('All', 'H', 'C'),…"
      ]
     },
     "metadata": {},
     "output_type": "display_data"
    }
   ],
   "source": [
    "mols = []\n",
    "x, y = [], []\n",
    "for alpha in np.linspace(0, pi, 100):\n",
    "    molecule_rot = molecule.copy()\n",
    "    positions = molecule_rot.positions\n",
    "    positions[molecule_rot.get_tags()==1] = R(alpha, u).dot(positions[molecule_rot.get_tags()==1].T).T\n",
    "    molecule_rot.set_positions(positions)\n",
    "    mols.append(molecule_rot)\n",
    "    x.append(alpha)\n",
    "    molecule_rot.calc = EMT()\n",
    "    y.append(molecule_rot.get_potential_energy())\n",
    "ngl.view_ngl(mols, w=300, h=300)"
   ]
  },
  {
   "cell_type": "code",
   "execution_count": 48,
   "id": "713dd2b5-ebd0-4bf8-9f7c-6a2fb94dabcf",
   "metadata": {},
   "outputs": [
    {
     "data": {
      "text/plain": [
       "[<matplotlib.lines.Line2D at 0x2b0b4211ab80>]"
      ]
     },
     "execution_count": 48,
     "metadata": {},
     "output_type": "execute_result"
    },
    {
     "data": {
      "image/png": "[encoded data removed]",
      "text/plain": [
       "<Figure size 432x288 with 1 Axes>"
      ]
     },
     "metadata": {
      "needs_background": "light"
     },
     "output_type": "display_data"
    }
   ],
   "source": [
    "plt.plot(x, y)"
   ]
  },
  {
   "cell_type": "markdown",
   "id": "469bbdb6-4896-4fee-ae55-c8bd8d18f4cd",
   "metadata": {},
   "source": [
    "# VASP Calculator "
   ]
  },
  {
   "cell_type": "code",
   "execution_count": 49,
   "id": "d3e7f1ce-e38d-40db-9113-621e47dbad12",
   "metadata": {},
   "outputs": [
    {
     "data": {
      "application/vnd.jupyter.widget-view+json": {
       "model_id": "adf41a2199714cf388ca84fe565d208b",
       "version_major": 2,
       "version_minor": 0
      },
      "text/plain": [
       "HBox(children=(NGLWidget(), VBox(children=(Dropdown(description='Show', options=('All', 'C', 'O'), value='All'…"
      ]
     },
     "metadata": {},
     "output_type": "display_data"
    }
   ],
   "source": [
    "d = 1.1\n",
    "co = Atoms('CO', positions=[(0, 0, 0), (0, 0, d)])\n",
    "ngl.view_ngl(co, w=500, h=500)"
   ]
  },
  {
   "cell_type": "code",
   "execution_count": 50,
   "id": "bb14bf98-d379-4c37-9fd8-45d3a037d319",
   "metadata": {},
   "outputs": [],
   "source": [
    "from ase.calculators.vasp import Vasp\n",
    "calc = Vasp(command=f'mpirun -n 36 vasp_std' ,\n",
    "           kpts=(1, 1, 1),\n",
    "           encut=100,\n",
    "#          isym=0,\n",
    "#          icharg=1,\n",
    "#          ivdw=21,\n",
    "           setups={'C': '', 'O': ''},\n",
    "#          setups={'base': 'GW', 'Br': ''},\n",
    "            directory='VASP',\n",
    "           xc='PBE')\n",
    "co.calc = calc"
   ]
  },
  {
   "cell_type": "code",
   "execution_count": 51,
   "id": "b8a3e755-2379-4cdb-b6d8-fc374c0d092a",
   "metadata": {},
   "outputs": [],
   "source": [
    "potcar_list = ['C', 'O']\n",
    "for pot in potcar_list:\n",
    "    pp_source_dir = '/home/lkgroup/potentials/VASP/PBE/'\n",
    "    with open(pp_source_dir + pot + '/POTCAR', 'r') as f:\n",
    "        potcar = f.read()\n",
    "    try:\n",
    "        os.makedirs(f'/home/oz/sync/vasp_pp/potpaw_PBE/{pot}/')\n",
    "    except FileExistsError:\n",
    "        pass\n",
    "    with open(f'/home/oz/sync/vasp_pp/potpaw_PBE/{pot}/POTCAR', 'w') as f:\n",
    "        f.write(potcar)"
   ]
  },
  {
   "cell_type": "code",
   "execution_count": 52,
   "id": "aa7d6794-0b83-42af-81b2-43a167fb943d",
   "metadata": {},
   "outputs": [],
   "source": [
    "# co.get_potential_energy()"
   ]
  },
  {
   "cell_type": "code",
   "execution_count": 53,
   "id": "da3556b5-d536-448c-9f0b-9c85e8783cac",
   "metadata": {},
   "outputs": [],
   "source": [
    "co.set_cell([10, 10, 10])\n",
    "co.set_pbc(True)"
   ]
  },
  {
   "cell_type": "code",
   "execution_count": 54,
   "id": "05a4eddf-7f0d-46db-9279-585e400723d1",
   "metadata": {},
   "outputs": [
    {
     "data": {
      "text/plain": [
       "-17.21650531"
      ]
     },
     "execution_count": 54,
     "metadata": {},
     "output_type": "execute_result"
    }
   ],
   "source": [
    "co.get_potential_energy()"
   ]
  },
  {
   "cell_type": "code",
   "execution_count": 55,
   "id": "6ca64fee-021f-4487-a52b-8381ccf5b041",
   "metadata": {},
   "outputs": [
    {
     "name": "stdout",
     "output_type": "stream",
     "text": [
      "       N       E                     dE             d eps       ncg     rms          rms(c)\n",
      "DAV:   1    -0.422205459931E+03   -0.42221E+03   -0.18990E+04   144   0.176E+02    0.416E+01\n",
      "DAV:   2    -0.303361787853E+03    0.11884E+03   -0.28787E+02    72   0.474E+01    0.375E+01\n",
      "DAV:   3    -0.787168282249E+02    0.22464E+03   -0.12754E+02    72   0.203E+01    0.210E+01\n",
      "DAV:   4    -0.550754644946E+02    0.23641E+02   -0.48443E+01    72   0.110E+01    0.284E+01\n",
      "DAV:   5    -0.862376322920E+02   -0.31162E+02   -0.30825E+02    72   0.364E+01    0.301E+01\n",
      "DAV:   6    -0.287505063229E+02    0.57487E+02   -0.32254E+01   108   0.963E+00    0.154E+01\n",
      "DAV:   7    -0.229106895821E+02    0.58398E+01   -0.10121E+02    72   0.148E+01    0.109E+01\n",
      "DAV:   8    -0.175836850539E+02    0.53270E+01   -0.19368E+01    72   0.740E+00    0.432E+00\n",
      "DAV:   9    -0.177335514017E+02   -0.14987E+00   -0.78765E+00    72   0.495E+00    0.511E+00\n",
      "DAV:  10    -0.171823882319E+02    0.55116E+00   -0.37637E+00    72   0.308E+00    0.119E+00\n",
      "DAV:  11    -0.171752560496E+02    0.71322E-02   -0.94287E-02   108   0.494E-01    0.105E+00\n",
      "DAV:  12    -0.171941644210E+02   -0.18908E-01   -0.14700E-01    72   0.621E-01    0.364E-01\n",
      "DAV:  13    -0.172075133333E+02   -0.13349E-01   -0.10048E-02    72   0.166E-01    0.892E-02\n",
      "DAV:  14    -0.172109996909E+02   -0.34864E-02   -0.44657E-04   108   0.417E-02    0.812E-02\n",
      "DAV:  15    -0.172122614260E+02   -0.12617E-02   -0.90194E-04    72   0.486E-02    0.145E-02\n",
      "DAV:  16    -0.172126005427E+02   -0.33912E-03   -0.10102E-04    72   0.176E-02    0.110E-02\n",
      "DAV:  17    -0.172126400363E+02   -0.39494E-04   -0.23367E-05    72   0.800E-03\n",
      "   1 F= -.17212640E+02 E0= -.17216505E+02  d E =0.115958E-01\n"
     ]
    }
   ],
   "source": [
    "!cat VASP/OSZICAR"
   ]
  },
  {
   "cell_type": "code",
   "execution_count": 56,
   "id": "6aeaadfe-c8ac-4c76-8470-b3320d76aa1e",
   "metadata": {},
   "outputs": [
    {
     "data": {
      "application/vnd.jupyter.widget-view+json": {
       "model_id": "bbfeabe503474d35bc48f42e91e05c6b",
       "version_major": 2,
       "version_minor": 0
      },
      "text/plain": [
       "  0%|          | 0/10 [00:00<?, ?it/s]"
      ]
     },
     "metadata": {},
     "output_type": "display_data"
    }
   ],
   "source": [
    "x, y = [], [] \n",
    "for d in tqdm(np.linspace(1, 1.5, 10)):\n",
    "    co.positions[1, 2] = d\n",
    "    x.append(d)\n",
    "    y.append(co.get_potential_energy())"
   ]
  },
  {
   "cell_type": "code",
   "execution_count": 57,
   "id": "29b61292-01cb-4d01-b8c9-f0688b83af57",
   "metadata": {},
   "outputs": [
    {
     "data": {
      "text/plain": [
       "[<matplotlib.lines.Line2D at 0x2b0b424ab760>]"
      ]
     },
     "execution_count": 57,
     "metadata": {},
     "output_type": "execute_result"
    },
    {
     "data": {
      "image/png": "[encoded data removed]",
      "text/plain": [
       "<Figure size 432x288 with 1 Axes>"
      ]
     },
     "metadata": {
      "needs_background": "light"
     },
     "output_type": "display_data"
    }
   ],
   "source": [
    "plt.plot(x,y)"
   ]
  },
  {
   "cell_type": "code",
   "execution_count": 58,
   "id": "248a663d-229a-4334-9549-a37d1422fc27",
   "metadata": {},
   "outputs": [
    {
     "data": {
      "text/plain": [
       "array([[-0.        , -0.        ,  0.20860479],\n",
       "       [ 0.        ,  0.        , -0.20860479]])"
      ]
     },
     "execution_count": 58,
     "metadata": {},
     "output_type": "execute_result"
    }
   ],
   "source": [
    "co.positions[1, 2] = 1.27016\n",
    "co.get_forces()"
   ]
  },
  {
   "cell_type": "code",
   "execution_count": 59,
   "id": "cb7da644-f4bf-411c-8fbf-1ac6db5101e9",
   "metadata": {},
   "outputs": [],
   "source": [
    "a = 5.4307\n",
    "atoms = Atoms([Atom('Si', (0, 0, 0)), \n",
    "               Atom('Si', (0, a/2, a/2)),\n",
    "               Atom('Si', (a/2, 0, a/2)),\n",
    "               Atom('Si', (a/2, a/2, 0))])\n",
    "translate_atoms = atoms.copy()\n",
    "translate_atoms.translate([0.25*a, 0.25*a, 0.25*a])\n",
    "supercell = atoms + translate_atoms\n",
    "supercell.set_cell([a, a, a])\n",
    "supercell.set_pbc(True)\n",
    "calc = Vasp(command=f'mpirun -n 36 vasp_std' ,\n",
    "           kpts=(10, 10, 10),\n",
    "           encut=300,\n",
    "           isym=2,\n",
    "           icharg=2,\n",
    "            directory='VASP',\n",
    "           xc='PBE')\n",
    "supercell.calc = calc\n",
    "positions0 = copy(supercell.positions)\n",
    "cell0 = copy(supercell.cell)"
   ]
  },
  {
   "cell_type": "code",
   "execution_count": 60,
   "id": "49b95803-e9d3-4515-b42c-64f69ca22352",
   "metadata": {},
   "outputs": [
    {
     "data": {
      "application/vnd.jupyter.widget-view+json": {
       "model_id": "2d490bc9befd46ec802a7756f61c47bc",
       "version_major": 2,
       "version_minor": 0
      },
      "text/plain": [
       "  0%|          | 0/10 [00:00<?, ?it/s]"
      ]
     },
     "metadata": {},
     "output_type": "display_data"
    }
   ],
   "source": [
    "x, y = [], []\n",
    "for vol in tqdm(np.linspace(100, 220, 10)):\n",
    "    scale = np.cbrt(vol)/a\n",
    "    supercell.set_positions(positions0*scale)\n",
    "    supercell.set_cell([a*scale, a*scale, a*scale])\n",
    "#     print(a, scale, supercell.cell)\n",
    "    x.append(supercell.get_volume())\n",
    "    y.append(supercell.get_potential_energy())\n",
    "    "
   ]
  },
  {
   "cell_type": "code",
   "execution_count": 61,
   "id": "73b59d28-5664-4904-835a-373b8cd2c713",
   "metadata": {},
   "outputs": [
    {
     "data": {
      "image/png": "[encoded data removed]",
      "text/plain": [
       "<Figure size 432x288 with 1 Axes>"
      ]
     },
     "metadata": {
      "needs_background": "light"
     },
     "output_type": "display_data"
    }
   ],
   "source": [
    "plt.plot(x,y)\n",
    "plt.ylabel('Epot [eV]')\n",
    "plt.xlabel('V [A^3]')\n",
    "plt.title(f'v0: {a**3:.3f}[A^3]')\n",
    "plt.show()"
   ]
  },
  {
   "cell_type": "markdown",
   "id": "a3747ccc-c34d-43e9-918f-27cb880f0e16",
   "metadata": {},
   "source": [
    "# Minimization"
   ]
  },
  {
   "cell_type": "code",
   "execution_count": 62,
   "id": "950a22f8-bfe7-472c-85b2-8e099ab10236",
   "metadata": {
    "tags": []
   },
   "outputs": [
    {
     "name": "stdout",
     "output_type": "stream",
     "text": [
      "      Step     Time          Energy         fmax\n",
      "BFGS:    0 13:47:33        3.047481       11.9122\n",
      "BFGS:    1 13:47:33        2.242248        4.3641\n",
      "BFGS:    2 13:47:33        1.981241        2.0594\n",
      "BFGS:    3 13:47:33        1.932755        0.7105\n",
      "BFGS:    4 13:47:33        1.923799        0.3039\n",
      "BFGS:    5 13:47:33        1.919769        0.2571\n",
      "BFGS:    6 13:47:33        1.896225        0.4407\n",
      "BFGS:    7 13:47:34        1.886843        0.3341\n",
      "BFGS:    8 13:47:34        1.881613        0.1800\n",
      "BFGS:    9 13:47:34        1.879760        0.0884\n",
      "BFGS:   10 13:47:34        1.879108        0.0457\n",
      "BFGS:   11 13:47:34        1.878924        0.0223\n",
      "BFGS:   12 13:47:34        1.878887        0.0066\n",
      "BFGS:   13 13:47:34        1.878884        0.0011\n"
     ]
    },
    {
     "data": {
      "text/plain": [
       "True"
      ]
     },
     "execution_count": 62,
     "metadata": {},
     "output_type": "execute_result"
    }
   ],
   "source": [
    "from ase.optimize import BFGS\n",
    "d = 0.9575\n",
    "t = np.pi / 180 * (104.51 - 30)\n",
    "water = Atoms('H2O',\n",
    "              positions=[(d, 0, 0),\n",
    "                         (d * np.cos(t), d * np.sin(t), 0),\n",
    "                         (0, 0, 0)],\n",
    "              calculator=EMT())\n",
    "dyn = BFGS(water, trajectory='H2O.traj') # Broyden–Fletcher–Goldfarb–Shanno algorithm\n",
    "dyn.run(fmax=0.005)"
   ]
  },
  {
   "cell_type": "code",
   "execution_count": 63,
   "id": "2790dd71-e0c3-48ea-abde-c513755ca308",
   "metadata": {},
   "outputs": [
    {
     "data": {
      "application/vnd.jupyter.widget-view+json": {
       "model_id": "3b2af51372304cef9e8882e3118c3fda",
       "version_major": 2,
       "version_minor": 0
      },
      "text/plain": [
       "HBox(children=(NGLWidget(max_frame=13), VBox(children=(Dropdown(description='Show', options=('All', 'H', 'O'),…"
      ]
     },
     "metadata": {},
     "output_type": "display_data"
    }
   ],
   "source": [
    "from ase.io import Trajectory\n",
    "traj = Trajectory('H2O.traj')\n",
    "ngl.view_ngl(traj, w=500, h=500)"
   ]
  },
  {
   "cell_type": "code",
   "execution_count": 64,
   "id": "9c4dd0cb-bae0-484a-8cca-333ce4a612d2",
   "metadata": {
    "tags": []
   },
   "outputs": [
    {
     "name": "stdout",
     "output_type": "stream",
     "text": [
      "      Step     Time          Energy         fmax\n",
      "BFGS:    0 13:47:34        6.360300        4.4983\n",
      "BFGS:    1 13:47:34        4.426493        2.8633\n",
      "BFGS:    2 13:47:34        3.940982        2.0518\n",
      "BFGS:    3 13:47:34        3.706366        1.1021\n",
      "BFGS:    4 13:47:34        3.566493        1.0248\n",
      "BFGS:    5 13:47:34        3.425396        1.1240\n",
      "BFGS:    6 13:47:34        3.273492        0.6961\n",
      "BFGS:    7 13:47:34        3.254325        0.5460\n",
      "BFGS:    8 13:47:34        3.219537        0.3891\n",
      "BFGS:    9 13:47:34        3.210391        0.3056\n",
      "BFGS:   10 13:47:34        3.196879        0.2115\n",
      "BFGS:   11 13:47:34        3.194637        0.2089\n",
      "BFGS:   12 13:47:34        3.190109        0.1859\n",
      "BFGS:   13 13:47:34        3.185086        0.1895\n",
      "BFGS:   14 13:47:34        3.179342        0.1916\n",
      "BFGS:   15 13:47:34        3.176479        0.1532\n",
      "BFGS:   16 13:47:34        3.174404        0.1078\n",
      "BFGS:   17 13:47:34        3.173032        0.0949\n",
      "BFGS:   18 13:47:34        3.171277        0.1121\n",
      "BFGS:   19 13:47:34        3.170288        0.0783\n",
      "BFGS:   20 13:47:34        3.169750        0.0553\n",
      "BFGS:   21 13:47:34        3.169317        0.0655\n",
      "BFGS:   22 13:47:34        3.168228        0.1060\n",
      "BFGS:   23 13:47:34        3.164572        0.1912\n",
      "BFGS:   24 13:47:34        3.127855        0.6903\n",
      "BFGS:   25 13:47:34        3.237742        1.3593\n",
      "BFGS:   26 13:47:34        3.115506        0.7109\n",
      "BFGS:   27 13:47:34        3.104552        0.6915\n",
      "BFGS:   28 13:47:34        3.079419        0.8255\n",
      "BFGS:   29 13:47:34        3.012627        0.2685\n",
      "BFGS:   30 13:47:34        2.994547        0.2801\n",
      "BFGS:   31 13:47:34        2.985781        0.2694\n",
      "BFGS:   32 13:47:34        2.980871        0.2284\n",
      "BFGS:   33 13:47:34        2.968971        0.2536\n",
      "BFGS:   34 13:47:34        2.957462        0.2593\n",
      "BFGS:   35 13:47:34        2.942928        0.2373\n",
      "BFGS:   36 13:47:34        2.935628        0.2121\n",
      "BFGS:   37 13:47:34        2.926998        0.1853\n",
      "BFGS:   38 13:47:34        2.918677        0.1866\n",
      "BFGS:   39 13:47:34        2.911617        0.1666\n",
      "BFGS:   40 13:47:34        2.904838        0.1480\n",
      "BFGS:   41 13:47:34        2.900534        0.1354\n",
      "BFGS:   42 13:47:34        2.898630        0.1395\n",
      "BFGS:   43 13:47:34        2.896658        0.1086\n",
      "BFGS:   44 13:47:34        2.894041        0.1344\n",
      "BFGS:   45 13:47:34        2.888175        0.1778\n",
      "BFGS:   46 13:47:34        2.881111        0.1987\n",
      "BFGS:   47 13:47:34        2.868479        0.3116\n",
      "BFGS:   48 13:47:34        2.849037        0.4659\n",
      "BFGS:   49 13:47:34        2.824910        0.2939\n",
      "BFGS:   50 13:47:34        2.803062        0.5031\n",
      "BFGS:   51 13:47:34        2.793347        0.4931\n",
      "BFGS:   52 13:47:34        2.768307        0.1928\n",
      "BFGS:   53 13:47:34        2.757602        0.1948\n",
      "BFGS:   54 13:47:34        2.746584        0.2282\n",
      "BFGS:   55 13:47:34        2.736088        0.2955\n",
      "BFGS:   56 13:47:34        2.727026        0.2701\n",
      "BFGS:   57 13:47:34        2.713916        0.2528\n",
      "BFGS:   58 13:47:34        2.689041        0.3075\n",
      "BFGS:   59 13:47:34        2.667916        0.4196\n",
      "BFGS:   60 13:47:34        2.643327        0.4357\n",
      "BFGS:   61 13:47:34        2.622172        0.9761\n",
      "BFGS:   62 13:47:34        2.593971        0.3374\n",
      "BFGS:   63 13:47:34        2.570327        0.3666\n",
      "BFGS:   64 13:47:34        2.556527        0.2934\n",
      "BFGS:   65 13:47:34        2.544882        0.1775\n",
      "BFGS:   66 13:47:34        2.536365        0.2123\n",
      "BFGS:   67 13:47:34        2.519744        0.4610\n",
      "BFGS:   68 13:47:34        2.485834        0.7059\n",
      "BFGS:   69 13:47:34        2.436017        0.9280\n",
      "BFGS:   70 13:47:34        2.381355        0.8714\n",
      "BFGS:   71 13:47:34        2.305313        0.5243\n",
      "BFGS:   72 13:47:34        2.366490        1.0996\n",
      "BFGS:   73 13:47:34        2.211813        0.4264\n",
      "BFGS:   74 13:47:34        2.186752        0.3867\n",
      "BFGS:   75 13:47:34        2.150202        0.3305\n",
      "BFGS:   76 13:47:34        2.125907        0.3267\n",
      "BFGS:   77 13:47:34        2.114814        0.2906\n",
      "BFGS:   78 13:47:35        2.105403        0.3123\n",
      "BFGS:   79 13:47:35        2.093240        0.1731\n",
      "BFGS:   80 13:47:35        2.088248        0.1792\n",
      "BFGS:   81 13:47:35        2.080928        0.2074\n",
      "BFGS:   82 13:47:35        2.073230        0.1963\n",
      "BFGS:   83 13:47:35        2.061160        0.2644\n",
      "BFGS:   84 13:47:35        2.047384        0.2460\n",
      "BFGS:   85 13:47:35        2.037808        0.2449\n",
      "BFGS:   86 13:47:35        2.025607        0.2364\n",
      "BFGS:   87 13:47:35        2.010576        0.2417\n",
      "BFGS:   88 13:47:35        1.993767        0.2533\n",
      "BFGS:   89 13:47:35        1.981765        0.1666\n",
      "BFGS:   90 13:47:35        1.975807        0.1576\n",
      "BFGS:   91 13:47:35        1.971990        0.1451\n",
      "BFGS:   92 13:47:35        1.966956        0.1461\n",
      "BFGS:   93 13:47:35        1.962302        0.1306\n",
      "BFGS:   94 13:47:35        1.958031        0.1180\n",
      "BFGS:   95 13:47:35        1.953595        0.1309\n",
      "BFGS:   96 13:47:35        1.948406        0.1700\n",
      "BFGS:   97 13:47:35        1.943040        0.1463\n",
      "BFGS:   98 13:47:35        1.939179        0.1242\n",
      "BFGS:   99 13:47:35        1.933356        0.1319\n",
      "BFGS:  100 13:47:35        1.922561        0.1902\n",
      "BFGS:  101 13:47:35        1.901468        0.2980\n",
      "BFGS:  102 13:47:35        1.878371        0.3731\n",
      "BFGS:  103 13:47:35        1.872830        0.4522\n",
      "BFGS:  104 13:47:35        1.856293        0.2216\n",
      "BFGS:  105 13:47:35        1.841308        0.1775\n",
      "BFGS:  106 13:47:35        1.829749        0.1747\n",
      "BFGS:  107 13:47:35        1.821470        0.1962\n",
      "BFGS:  108 13:47:35        1.817209        0.1553\n",
      "BFGS:  109 13:47:35        1.811018        0.1702\n",
      "BFGS:  110 13:47:35        1.806805        0.1172\n",
      "BFGS:  111 13:47:35        1.804386        0.1132\n",
      "BFGS:  112 13:47:35        1.801831        0.1083\n",
      "BFGS:  113 13:47:35        1.792899        0.0928\n",
      "BFGS:  114 13:47:35        1.789387        0.0978\n",
      "BFGS:  115 13:47:35        1.786856        0.0958\n",
      "BFGS:  116 13:47:35        1.785160        0.1184\n",
      "BFGS:  117 13:47:35        1.782973        0.1070\n",
      "BFGS:  118 13:47:35        1.781169        0.0802\n",
      "BFGS:  119 13:47:35        1.779896        0.0692\n",
      "BFGS:  120 13:47:35        1.778776        0.0559\n",
      "BFGS:  121 13:47:35        1.777820        0.0563\n",
      "BFGS:  122 13:47:35        1.777071        0.0509\n",
      "BFGS:  123 13:47:35        1.776551        0.0393\n"
     ]
    },
    {
     "data": {
      "text/plain": [
       "True"
      ]
     },
     "execution_count": 64,
     "metadata": {},
     "output_type": "execute_result"
    }
   ],
   "source": [
    "molecule = read('ethylbenzene.xyz')\n",
    "molecule.calc = EMT()\n",
    "dyn = BFGS(molecule, trajectory='ethylbenzene.traj') # Broyden–Fletcher–Goldfarb–Shanno algorithm\n",
    "dyn.run(fmax=0.05)"
   ]
  },
  {
   "cell_type": "code",
   "execution_count": 65,
   "id": "061dff0d-50d7-422d-8835-baca62357dc8",
   "metadata": {},
   "outputs": [
    {
     "data": {
      "application/vnd.jupyter.widget-view+json": {
       "model_id": "c455f17b8b954d1ead094341530b8cc0",
       "version_major": 2,
       "version_minor": 0
      },
      "text/plain": [
       "HBox(children=(NGLWidget(max_frame=123), VBox(children=(Dropdown(description='Show', options=('All', 'H', 'C')…"
      ]
     },
     "metadata": {},
     "output_type": "display_data"
    }
   ],
   "source": [
    "traj = Trajectory('ethylbenzene.traj')\n",
    "ngl.view_ngl(traj, w=500, h=500)"
   ]
  },
  {
   "cell_type": "code",
   "execution_count": 67,
   "id": "c8d3a138-1089-4e28-b449-879d1b205d77",
   "metadata": {
    "tags": []
   },
   "outputs": [
    {
     "name": "stdout",
     "output_type": "stream",
     "text": [
      "      Step     Time          Energy         fmax\n",
      "BFGS:    0 13:51:31     -119.219245        2.8698\n",
      "BFGS:    1 13:51:36     -119.689573        3.2396\n",
      "BFGS:    2 13:51:40     -120.029791        2.2420\n",
      "BFGS:    3 13:51:45     -120.180980        1.3450\n",
      "BFGS:    4 13:51:48     -120.209278        0.8688\n",
      "BFGS:    5 13:51:52     -120.225113        0.2852\n",
      "BFGS:    6 13:51:56     -120.233878        0.2932\n",
      "BFGS:    7 13:52:00     -120.247147        0.2810\n",
      "BFGS:    8 13:52:04     -120.251887        0.1587\n",
      "BFGS:    9 13:52:07     -120.256160        0.1146\n",
      "BFGS:   10 13:52:11     -120.258714        0.1290\n",
      "BFGS:   11 13:52:14     -120.260548        0.1476\n",
      "BFGS:   12 13:52:18     -120.261951        0.0807\n",
      "BFGS:   13 13:52:21     -120.262755        0.0635\n",
      "BFGS:   14 13:52:25     -120.263345        0.0604\n",
      "BFGS:   15 13:52:28     -120.263904        0.0898\n",
      "BFGS:   16 13:52:32     -120.264303        0.0669\n",
      "BFGS:   17 13:52:35     -120.264644        0.0391\n"
     ]
    },
    {
     "data": {
      "text/plain": [
       "True"
      ]
     },
     "execution_count": 67,
     "metadata": {},
     "output_type": "execute_result"
    }
   ],
   "source": [
    "molecule =read('ethylbenzene.xyz') # Ethylbenzene\n",
    "molecule.calc = Vasp(command=f'mpirun -n 36 vasp_std' ,\n",
    "           kpts=(1, 1, 1),\n",
    "           encut=100,\n",
    "           setups={'C': '', 'H': ''},\n",
    "                     directory='VASP',\n",
    "           xc='PBE')\n",
    "molecule.set_cell([20, 20, 20])\n",
    "molecule.set_pbc(True)\n",
    "dyn = BFGS(molecule, trajectory='ethylbenzene_VASP.traj') # Broyden–Fletcher–Goldfarb–Shanno algorithm\n",
    "dyn.run(fmax=0.05)"
   ]
  },
  {
   "cell_type": "code",
   "execution_count": 68,
   "id": "99dca827-114f-4c36-a68d-48c35c91c486",
   "metadata": {},
   "outputs": [
    {
     "data": {
      "application/vnd.jupyter.widget-view+json": {
       "model_id": "8a1e277fbdc3461f9fd215ce7ce8fa1b",
       "version_major": 2,
       "version_minor": 0
      },
      "text/plain": [
       "HBox(children=(NGLWidget(max_frame=17), VBox(children=(Dropdown(description='Show', options=('All', 'H', 'C'),…"
      ]
     },
     "metadata": {},
     "output_type": "display_data"
    }
   ],
   "source": [
    "traj = Trajectory('ethylbenzene_VASP.traj')\n",
    "ngl.view_ngl(traj, w=500, h=500)"
   ]
  },
  {
   "cell_type": "markdown",
   "id": "4972cdc8-3304-41cf-9be8-5f8996a6c968",
   "metadata": {},
   "source": [
    "# Band Structure"
   ]
  },
  {
   "cell_type": "code",
   "execution_count": 69,
   "id": "150e077e-4886-41b9-bd32-33047f2f572a",
   "metadata": {},
   "outputs": [],
   "source": [
    "a = 5.4307\n",
    "atoms = Atoms([Atom('Si', (0, 0, 0))])\n",
    "translate_atoms = atoms.copy()\n",
    "translate_atoms.translate([0.25*a, 0.25*a, 0.25*a])\n",
    "supercell = atoms + translate_atoms\n",
    "supercell.set_cell([[a/2, a/2, 0], \n",
    "                    [0, a/2, a/2],\n",
    "                    [a/2, 0, a/2]])\n",
    "supercell.set_pbc(True)"
   ]
  },
  {
   "cell_type": "code",
   "execution_count": 72,
   "id": "46b3302d-24a1-4ec1-9673-f388d8bc87b0",
   "metadata": {},
   "outputs": [],
   "source": [
    "!rm VASP/*"
   ]
  },
  {
   "cell_type": "code",
   "execution_count": 84,
   "id": "ca1a1821-e625-42c4-b7dd-bed6a37ac4cc",
   "metadata": {},
   "outputs": [
    {
     "data": {
      "text/plain": [
       "<AxesSubplot:ylabel='energies [eV]'>"
      ]
     },
     "execution_count": 84,
     "metadata": {},
     "output_type": "execute_result"
    },
    {
     "data": {
      "image/png": "[encoded data removed]",
      "text/plain": [
       "<Figure size 432x288 with 1 Axes>"
      ]
     },
     "metadata": {
      "needs_background": "light"
     },
     "output_type": "display_data"
    }
   ],
   "source": [
    "calc = Vasp(command=f'mpirun -n 36 vasp_std' ,\n",
    "           kpts={'path':'LGXKG', 'npoints': 100},\n",
    "           encut=240,\n",
    "           isym=2,\n",
    "           icharg=2,\n",
    "        lorbit=11,\n",
    "            directory='',\n",
    "           xc='PBE')\n",
    "supercell.calc = calc\n",
    "supercell.get_potential_energy()\n",
    "bs = supercell.calc.band_structure()\n",
    "bs.plot(emin=0, emax=20)"
   ]
  },
  {
   "cell_type": "code",
   "execution_count": 75,
   "id": "9712110f-9262-44ee-b525-0c73e9e3281b",
   "metadata": {},
   "outputs": [
    {
     "name": "stdout",
     "output_type": "stream",
     "text": [
      "Gap: 0.456 eV\n",
      "Transition (v -> c):\n",
      "  (s=0, k=22, n=3, [0.00, 0.00, 0.00]) -> (s=0, k=44, n=4, [0.42, 0.00, 0.42])\n"
     ]
    },
    {
     "data": {
      "text/plain": [
       "(0.45640000000000036, (0, 22, 3), (0, 44, 4))"
      ]
     },
     "execution_count": 75,
     "metadata": {},
     "output_type": "execute_result"
    }
   ],
   "source": [
    "from ase.dft import bandgap\n",
    "bandgap.bandgap(supercell.calc)"
   ]
  },
  {
   "cell_type": "code",
   "execution_count": 101,
   "id": "b5a1dca6-b8e1-4453-ac37-7fbb71336f8a",
   "metadata": {},
   "outputs": [
    {
     "data": {
      "text/plain": [
       "-10.81973759"
      ]
     },
     "execution_count": 101,
     "metadata": {},
     "output_type": "execute_result"
    }
   ],
   "source": [
    "\n",
    "calc = Vasp(command=f'mpirun -n 36 vasp_std' ,\n",
    "           kpts=[21, 21, 21],\n",
    "           encut=240,\n",
    "           isym=2,\n",
    "           icharg=2,\n",
    "           lorbit=11,\n",
    "            ismear = -5, #tetrahedron\n",
    "           xc='PBE')\n",
    "supercell.calc = calc\n",
    "supercell.get_potential_energy()\n"
   ]
  },
  {
   "cell_type": "code",
   "execution_count": 102,
   "id": "4521f493-c243-431f-aa67-c9b1052cfa34",
   "metadata": {},
   "outputs": [
    {
     "data": {
      "text/plain": [
       "[<matplotlib.lines.Line2D at 0x2b0bd83c9d60>]"
      ]
     },
     "execution_count": 102,
     "metadata": {},
     "output_type": "execute_result"
    },
    {
     "data": {
      "image/png": "[encoded data removed]",
      "text/plain": [
       "<Figure size 432x288 with 1 Axes>"
      ]
     },
     "metadata": {
      "needs_background": "light"
     },
     "output_type": "display_data"
    }
   ],
   "source": [
    "from ase.dft import dos\n",
    "# supercell.calc.set(directory='')\n",
    "dos = dos.DOS(supercell.calc)\n",
    "d = dos.get_dos()\n",
    "e = dos.get_energies()\n",
    "plt.plot(e, d)"
   ]
  },
  {
   "cell_type": "markdown",
   "id": "40758ce2-f646-4a66-9cea-9182ca0f74ff",
   "metadata": {},
   "source": [
    "# MD"
   ]
  },
  {
   "cell_type": "code",
   "execution_count": null,
   "id": "0fc04d59-7ac0-4833-b31d-fb08b092c335",
   "metadata": {},
   "outputs": [],
   "source": [
    "from ase.lattice.cubic import FaceCenteredCubic\n",
    "from ase.md.velocitydistribution import MaxwellBoltzmannDistribution\n",
    "from ase.md.langevin import Langevin\n",
    "from ase import units\n",
    "\n",
    "size = 3\n",
    "# Set up a crystal\n",
    "atoms = FaceCenteredCubic(directions=[[1, 0, 0], [0, 1, 0], [0, 0, 1]],\n",
    "                          symbol='Cu',\n",
    "                          size=(size, size, size),\n",
    "                          pbc=True)\n",
    "\n",
    "# Describe the interatomic interactions with the Effective Medium Theory\n",
    "atoms.calc = EMT()\n",
    "\n",
    "# Set the momenta corresponding to T=300K\n",
    "MaxwellBoltzmannDistribution(atoms, 300 * units.kB)\n",
    "\n",
    "# We want to run MD with constant energy using the VelocityVerlet algorithm.\n",
    "dyn = Langevin(atoms, 5*units.fs, 300*units.kB, 0.002)  # 5 fs time step.\n",
    "\n",
    "\n",
    "def printenergy(a=atoms):\n",
    "    \"\"\"Function to print the potential, kinetic and total energy\"\"\"\n",
    "    epot = a.get_potential_energy() / len(a)\n",
    "    ekin = a.get_kinetic_energy() / len(a)\n",
    "    print('Energy per atom: Epot = %.3feV  Ekin = %.3feV (T=%3.0fK)  '\n",
    "          'Etot = %.3feV' % (epot, ekin, ekin / (1.5 * units.kB), epot + ekin))\n",
    "\n",
    "\n",
    "# Now run the dynamics\n",
    "dyn.attach(printenergy, interval=10)\n",
    "traj = Trajectory('Cu.traj', 'w', atoms)\n",
    "dyn.attach(traj.write, interval=10)\n",
    "# Now run the dynamics\n",
    "dyn.run(200)"
   ]
  },
  {
   "cell_type": "code",
   "execution_count": null,
   "id": "d31b0236-4907-4a9d-8f93-4dc33bb8fb63",
   "metadata": {},
   "outputs": [],
   "source": [
    "traj = Trajectory('Cu.traj')\n",
    "ngl.view_ngl(traj, w=500, h=500)"
   ]
  },
  {
   "cell_type": "markdown",
   "id": "c40f4c57-5389-4d68-8793-d1e252ed5a9f",
   "metadata": {},
   "source": [
    "# NEB"
   ]
  },
  {
   "cell_type": "code",
   "execution_count": 103,
   "id": "8bf8f0ca-78f5-47c3-9bee-9bab35bd79c1",
   "metadata": {},
   "outputs": [
    {
     "name": "stdout",
     "output_type": "stream",
     "text": [
      "                Step[ FC]     Time          Energy          fmax\n",
      "*Force-consistent energies used in optimization.\n",
      "BFGSLineSearch:    0[  0] 14:14:58        3.323870*       0.2462\n",
      "BFGSLineSearch:    1[  1] 14:14:59        3.314754*       0.0378\n",
      "                Step[ FC]     Time          Energy          fmax\n",
      "*Force-consistent energies used in optimization.\n",
      "BFGSLineSearch:    0[  0] 14:14:59        3.320051*       0.1208\n",
      "BFGSLineSearch:    1[  1] 14:14:59        3.316117*       0.0474\n"
     ]
    },
    {
     "data": {
      "application/vnd.jupyter.widget-view+json": {
       "model_id": "6989b99901d542f4a601bea969bc822a",
       "version_major": 2,
       "version_minor": 0
      },
      "text/plain": [
       "HBox(children=(NGLWidget(), VBox(children=(Dropdown(description='Show', options=('All', 'Au', 'Al'), value='Al…"
      ]
     },
     "metadata": {},
     "output_type": "display_data"
    }
   ],
   "source": [
    "from ase.build import fcc100, add_adsorbate\n",
    "from ase.constraints import FixAtoms\n",
    "from ase.calculators.emt import EMT\n",
    "from ase.optimize import QuasiNewton\n",
    "\n",
    "# 2x2-Al(001) surface with 3 layers and an\n",
    "# Au atom adsorbed in a hollow site:\n",
    "slab = fcc100('Al', size=(2, 2, 3))\n",
    "add_adsorbate(slab, 'Au', 1.7, 'hollow')\n",
    "slab.center(axis=2, vacuum=4.0)\n",
    "\n",
    "# Make sure the structure is correct:\n",
    "# view(slab)\n",
    "\n",
    "# Fix second and third layers:\n",
    "mask = [atom.tag > 1 for atom in slab]\n",
    "# print(mask)\n",
    "slab.set_constraint(FixAtoms(mask=mask))\n",
    "\n",
    "# Use EMT potential:\n",
    "slab.calc = EMT()\n",
    "\n",
    "# Initial state:\n",
    "qn = QuasiNewton(slab, trajectory='initial.traj')\n",
    "qn.run(fmax=0.05)\n",
    "\n",
    "# Final state:\n",
    "slab[-1].x += slab.get_cell()[0, 0] / 2\n",
    "qn = QuasiNewton(slab, trajectory='final.traj')\n",
    "qn.run(fmax=0.05)\n",
    "ngl.view_ngl(slab*2, w=500, h=500)"
   ]
  },
  {
   "cell_type": "code",
   "execution_count": 105,
   "id": "8c6e2bdf-2d93-41cb-a405-978c8d4caff9",
   "metadata": {},
   "outputs": [
    {
     "name": "stdout",
     "output_type": "stream",
     "text": [
      "      Step     Time          Energy         fmax\n",
      "BFGS:    0 14:15:32        4.219952        3.5208\n",
      "BFGS:    1 14:15:32        3.937039        2.1765\n",
      "BFGS:    2 14:15:32        3.719814        0.4351\n",
      "BFGS:    3 14:15:32        3.709652        0.2301\n",
      "BFGS:    4 14:15:32        3.708879        0.2441\n",
      "BFGS:    5 14:15:32        3.706088        0.2577\n",
      "BFGS:    6 14:15:32        3.698532        0.2134\n",
      "BFGS:    7 14:15:32        3.692121        0.2462\n",
      "BFGS:    8 14:15:32        3.692274        0.1873\n",
      "BFGS:    9 14:15:32        3.693484        0.1727\n",
      "BFGS:   10 14:15:32        3.692659        0.1514\n",
      "BFGS:   11 14:15:32        3.690809        0.0736\n",
      "BFGS:   12 14:15:32        3.690202        0.0708\n",
      "BFGS:   13 14:15:32        3.690382        0.0782\n",
      "BFGS:   14 14:15:33        3.690426        0.1034\n",
      "BFGS:   15 14:15:33        3.689890        0.0998\n",
      "BFGS:   16 14:15:33        3.689029        0.0543\n",
      "BFGS:   17 14:15:33        3.688737        0.0289\n"
     ]
    },
    {
     "data": {
      "text/plain": [
       "True"
      ]
     },
     "execution_count": 105,
     "metadata": {},
     "output_type": "execute_result"
    }
   ],
   "source": [
    "from ase.io import read\n",
    "from ase.constraints import FixAtoms\n",
    "from ase.calculators.emt import EMT\n",
    "from ase.neb import NEB\n",
    "from ase.optimize import BFGS\n",
    "\n",
    "initial = read('initial.traj')\n",
    "final = read('final.traj')\n",
    "\n",
    "constraint = FixAtoms(mask=[atom.tag > 1 for atom in initial])\n",
    "\n",
    "images = [initial]\n",
    "for i in range(3):\n",
    "    image = initial.copy()\n",
    "    image.calc = EMT()\n",
    "    image.set_constraint(constraint)\n",
    "    images.append(image)\n",
    "\n",
    "images.append(final)\n",
    "\n",
    "neb = NEB(images)\n",
    "neb.interpolate()\n",
    "qn = BFGS(neb, trajectory='neb.traj')\n",
    "qn.run(fmax=0.05)"
   ]
  },
  {
   "cell_type": "code",
   "execution_count": 106,
   "id": "aa9bbcd7-3f1f-4c90-a93b-817bcb9afba0",
   "metadata": {},
   "outputs": [
    {
     "data": {
      "application/vnd.jupyter.widget-view+json": {
       "model_id": "3b64faf3b236474fabfd58c6b4c7d08f",
       "version_major": 2,
       "version_minor": 0
      },
      "text/plain": [
       "HBox(children=(NGLWidget(max_frame=4), VBox(children=(Dropdown(description='Show', options=('All', 'Au', 'Al')…"
      ]
     },
     "metadata": {},
     "output_type": "display_data"
    }
   ],
   "source": [
    "ngl.view_ngl(images, w=500, h=500)"
   ]
  },
  {
   "cell_type": "code",
   "execution_count": 107,
   "id": "6ab99e48-1d64-4b1e-92e3-eb609e1a587a",
   "metadata": {},
   "outputs": [
    {
     "data": {
      "image/png": "[encoded data removed]",
      "text/plain": [
       "<Figure size 432x288 with 1 Axes>"
      ]
     },
     "metadata": {
      "needs_background": "light"
     },
     "output_type": "display_data"
    }
   ],
   "source": [
    "import matplotlib.pyplot as plt\n",
    "from ase.neb import NEBTools\n",
    "from ase.io import read\n",
    "\n",
    "images = read('neb.traj@-5:')\n",
    "\n",
    "nebtools = NEBTools(images)\n",
    "\n",
    "# Get the calculated barrier and the energy change of the reaction.\n",
    "Ef, dE = nebtools.get_barrier()\n",
    "\n",
    "# Get the barrier without any interpolation between highest images.\n",
    "Ef, dE = nebtools.get_barrier(fit=False)\n",
    "\n",
    "# Get the actual maximum force at this point in the simulation.\n",
    "max_force = nebtools.get_fmax()\n",
    "\n",
    "# Create a figure like that coming from ASE-GUI.\n",
    "fig = nebtools.plot_band()\n",
    "\n"
   ]
  },
  {
   "cell_type": "markdown",
   "id": "f81a8e91-d452-4882-a250-95497269e022",
   "metadata": {},
   "source": [
    "# Two Stage Minimization"
   ]
  },
  {
   "cell_type": "code",
   "execution_count": 117,
   "id": "6d96e4e5-b7c1-4925-8bda-f72619868d80",
   "metadata": {
    "tags": []
   },
   "outputs": [],
   "source": [
    "a = 4.212\n",
    "mgo = Atoms([Atom('Mg', (0, 0, 0)), \n",
    "               Atom('O', (a/2, 0, 0))])\n",
    "mgo.set_cell([[a/2, a/2, 0], \n",
    "                [0, a/2, a/2],\n",
    "                [a/2, 0, a/2]])\n",
    "mgo.set_pbc(True)\n",
    "# ngl.view_ngl(mgo, w=300, h=300)"
   ]
  },
  {
   "cell_type": "code",
   "execution_count": 118,
   "id": "026e4e95-7965-47c5-b5ea-a1875aa9b3e8",
   "metadata": {},
   "outputs": [],
   "source": [
    "mgo_super = mgo*6"
   ]
  },
  {
   "cell_type": "code",
   "execution_count": 119,
   "id": "c3b2d366-137e-4593-a4cc-9f6cb4c9e051",
   "metadata": {
    "tags": []
   },
   "outputs": [
    {
     "data": {
      "application/vnd.jupyter.widget-view+json": {
       "model_id": "811dada1769149a28ed2383325b7ae59",
       "version_major": 2,
       "version_minor": 0
      },
      "text/plain": [
       "HBox(children=(NGLWidget(), VBox(children=(Dropdown(description='Show', options=('All', 'Mg', 'O'), value='All…"
      ]
     },
     "metadata": {},
     "output_type": "display_data"
    }
   ],
   "source": [
    "ngl.view_ngl(mgo_super, w=500, h=500)"
   ]
  },
  {
   "cell_type": "code",
   "execution_count": 121,
   "id": "d3f3a274-221b-42d0-996d-621b9aa6f0e5",
   "metadata": {},
   "outputs": [
    {
     "name": "stdout",
     "output_type": "stream",
     "text": [
      "Atom('O', [12.636, 12.636, 10.53], index=257)\n",
      "--------------------------------\n",
      "Atom('O', [10.53, 10.53, 10.53], tag=1, index=185)\n",
      "Atom('Mg', [10.53, 10.53, 12.636], tag=1, index=186)\n",
      "Atom('O', [12.636, 10.53, 12.636], tag=1, index=187)\n",
      "Atom('O', [10.53, 12.636, 12.636], tag=1, index=197)\n",
      "Atom('Mg', [10.53, 10.53, 8.424], tag=1, index=244)\n",
      "Atom('O', [12.636, 10.53, 8.424], tag=1, index=245)\n",
      "Atom('Mg', [12.636, 10.53, 10.53], tag=1, index=246)\n",
      "Atom('O', [14.741999999999999, 10.53, 10.53], tag=1, index=247)\n",
      "Atom('Mg', [14.741999999999999, 10.53, 12.636], tag=1, index=248)\n",
      "Atom('O', [10.53, 12.636, 8.424], tag=1, index=255)\n",
      "Atom('Mg', [10.53, 12.636, 10.53], tag=1, index=256)\n",
      "Atom('O', [12.636, 12.636, 10.53], tag=1, index=257)\n",
      "Atom('Mg', [12.636, 12.636, 12.636], tag=1, index=258)\n",
      "Atom('O', [14.741999999999999, 12.636, 12.636], tag=1, index=259)\n",
      "Atom('O', [10.53, 14.741999999999999, 10.53], tag=1, index=267)\n",
      "Atom('Mg', [10.53, 14.741999999999999, 12.636], tag=1, index=268)\n",
      "Atom('O', [12.636, 14.741999999999999, 12.636], tag=1, index=269)\n",
      "Atom('Mg', [14.741999999999999, 10.53, 8.424], tag=1, index=306)\n",
      "Atom('Mg', [12.636, 12.636, 8.424], tag=1, index=316)\n",
      "Atom('O', [14.741999999999999, 12.636, 8.424], tag=1, index=317)\n",
      "Atom('Mg', [14.741999999999999, 12.636, 10.53], tag=1, index=318)\n",
      "Atom('Mg', [10.53, 14.741999999999999, 8.424], tag=1, index=326)\n",
      "Atom('O', [12.636, 14.741999999999999, 8.424], tag=1, index=327)\n",
      "Atom('Mg', [12.636, 14.741999999999999, 10.53], tag=1, index=328)\n",
      "Atom('O', [14.741999999999999, 14.741999999999999, 10.53], tag=1, index=329)\n",
      "Atom('Mg', [14.741999999999999, 14.741999999999999, 12.636], tag=1, index=330)\n",
      "Atom('Mg', [14.741999999999999, 14.741999999999999, 8.424], tag=1, index=388)\n"
     ]
    }
   ],
   "source": [
    "i_remove = 257\n",
    "print(mgo_super[i_remove])\n",
    "mgo_super[i_remove].tag = 1\n",
    "print('--------------------------------')\n",
    "rc = a\n",
    "for i, atom in enumerate(mgo_super):\n",
    "    if np.linalg.norm(atom.position- mgo_super[i_remove].position) < rc:\n",
    "        mgo_super[i].tag = 1\n",
    "        print(mgo_super[i])\n",
    "    else:\n",
    "        mgo_super[i].tag = 0"
   ]
  },
  {
   "cell_type": "code",
   "execution_count": 122,
   "id": "0c8e66d1-865b-4edb-80de-e08152708653",
   "metadata": {
    "tags": []
   },
   "outputs": [
    {
     "data": {
      "application/vnd.jupyter.widget-view+json": {
       "model_id": "101574ed9ea44c1ea4830499995ad707",
       "version_major": 2,
       "version_minor": 0
      },
      "text/plain": [
       "HBox(children=(NGLWidget(), VBox(children=(Dropdown(description='Show', options=('All', 'Mg', 'O'), value='All…"
      ]
     },
     "metadata": {},
     "output_type": "display_data"
    }
   ],
   "source": [
    "ngl.view_ngl(mgo_super[mgo_super.get_tags() == 1], w=500, h=500)"
   ]
  },
  {
   "cell_type": "code",
   "execution_count": 124,
   "id": "abbbbcd0-295a-4722-921b-9a02a252bc6e",
   "metadata": {},
   "outputs": [
    {
     "data": {
      "text/plain": [
       "Atom('O', [12.636, 12.636, 10.53], tag=1)"
      ]
     },
     "execution_count": 124,
     "metadata": {},
     "output_type": "execute_result"
    }
   ],
   "source": [
    "mgo_super.pop(i_remove)"
   ]
  },
  {
   "cell_type": "code",
   "execution_count": 125,
   "id": "7e8c0315-448b-43e4-83a0-e2a37ef47729",
   "metadata": {
    "tags": []
   },
   "outputs": [
    {
     "data": {
      "application/vnd.jupyter.widget-view+json": {
       "model_id": "6d50361d0c774d6ab353e2245157c0bc",
       "version_major": 2,
       "version_minor": 0
      },
      "text/plain": [
       "HBox(children=(NGLWidget(), VBox(children=(Dropdown(description='Show', options=('All', 'Mg', 'O'), value='All…"
      ]
     },
     "metadata": {},
     "output_type": "display_data"
    }
   ],
   "source": [
    "\n",
    "ngl.view_ngl(mgo_super[mgo_super.get_tags() == 1], w=500, h=500)"
   ]
  },
  {
   "cell_type": "code",
   "execution_count": 126,
   "id": "b0139dc1-df06-4b85-b99f-d5ce1d65ab9e",
   "metadata": {},
   "outputs": [
    {
     "name": "stdout",
     "output_type": "stream",
     "text": [
      "      Step     Time          Energy         fmax\n",
      "BFGS:    0 14:18:29    -1147.468505        0.3205\n",
      "BFGS:    1 14:18:29    -1147.481150        0.2833\n",
      "BFGS:    2 14:18:30    -1147.526943        0.2795\n",
      "BFGS:    3 14:18:30    -1147.535442        0.2498\n",
      "BFGS:    4 14:18:31    -1147.573674        0.2782\n",
      "BFGS:    5 14:18:31    -1147.581446        0.2284\n",
      "BFGS:    6 14:18:32    -1147.611617        0.2381\n",
      "BFGS:    7 14:18:32    -1147.618569        0.2030\n",
      "BFGS:    8 14:18:33    -1147.643599        0.1942\n",
      "BFGS:    9 14:18:33    -1147.648440        0.1491\n",
      "BFGS:   10 14:18:34    -1147.655070        0.0326\n",
      "BFGS:   11 14:18:34    -1147.655396        0.0172\n",
      "BFGS:   12 14:18:35    -1147.655652        0.0104\n",
      "BFGS:   13 14:18:35    -1147.655707        0.0055\n",
      "BFGS:   14 14:18:36    -1147.655739        0.0041\n"
     ]
    },
    {
     "data": {
      "text/plain": [
       "True"
      ]
     },
     "execution_count": 126,
     "metadata": {},
     "output_type": "execute_result"
    }
   ],
   "source": [
    "from ase.lattice.cubic import FaceCenteredCubic\n",
    "from ase import Atoms, Atom\n",
    "from ase.calculators.kim.kim import KIM\n",
    "\n",
    "# https://wiki.fysik.dtu.dk/ase/ase/atoms.html#module-ase.atoms\n",
    "\n",
    "mgo_super.calc = KIM(\"LJ_ElliottAkerson_2015_Universal__MO_959249795837_003\")\n",
    "dyn = BFGS(mgo_super, trajectory='MgO_super.traj') # Broyden–Fletcher–Goldfarb–Shanno algorithm\n",
    "dyn.run(fmax=0.005)\n",
    "\n",
    "# energy = atoms.get_potential_energy()\n",
    "# print(\"Potential energy: {} eV\".format(energy))"
   ]
  },
  {
   "cell_type": "code",
   "execution_count": 127,
   "id": "605ba010-642f-48f9-9931-21afd10dd41b",
   "metadata": {
    "tags": []
   },
   "outputs": [
    {
     "data": {
      "application/vnd.jupyter.widget-view+json": {
       "model_id": "0f7390bb568b46439d47815edb24851b",
       "version_major": 2,
       "version_minor": 0
      },
      "text/plain": [
       "HBox(children=(NGLWidget(max_frame=14), VBox(children=(Dropdown(description='Show', options=('All', 'Mg', 'O')…"
      ]
     },
     "metadata": {},
     "output_type": "display_data"
    }
   ],
   "source": [
    "traj = Trajectory('MgO_super.traj')\n",
    "traj_mod =[atoms[atoms.get_tags() == 1] for atoms in traj ]\n",
    "ngl.view_ngl(traj_mod, w=500, h=500)"
   ]
  },
  {
   "cell_type": "code",
   "execution_count": 128,
   "id": "7036891c-5d49-4ddc-bd2c-ed353b412bf5",
   "metadata": {},
   "outputs": [],
   "source": [
    "calc = Vasp(command=f'mpirun -n 36 vasp_std' ,\n",
    "            kpts=(1, 1, 1),\n",
    "            istart = 0, \n",
    "            icharg=2,\n",
    "            encut = 600,\n",
    "            ismear = 0, \n",
    "            sigma = 0.01,\n",
    "            ncore = 1,\n",
    "            nbands = 1920,\n",
    "            prec = \"Accurate\",\n",
    "            ediff = 1e-6,\n",
    "            gga = \"PS\",\n",
    "            ibrion = 2,\n",
    "            nelmin = 4,\n",
    "            potim = 0.5,\n",
    "            isif = 0,\n",
    "            ediffg = -0.01,\n",
    "            nsw = 20,\n",
    "           setups={'Mg': '', 'O': ''},\n",
    "           xc='PBE')\n",
    "\n",
    "potcar_list = ['Mg', 'O']\n",
    "for pot in potcar_list:\n",
    "    pp_source_dir = '/home/lkgroup/potentials/VASP/PBE/'\n",
    "    with open(pp_source_dir + pot + '/POTCAR', 'r') as f:\n",
    "        potcar = f.read()\n",
    "    try:\n",
    "        os.makedirs(f'/home/oz/sync/vasp_pp/potpaw_PBE/{pot}/')\n",
    "    except FileExistsError:\n",
    "        pass\n",
    "    with open(f'/home/oz/sync/vasp_pp/potpaw_PBE/{pot}/POTCAR', 'w') as f:\n",
    "        f.write(potcar)"
   ]
  },
  {
   "cell_type": "code",
   "execution_count": null,
   "id": "94eb4672-d95c-4834-8640-21b32279b76b",
   "metadata": {},
   "outputs": [],
   "source": [
    "# from ase.io import write, read\n",
    "# write('mgo.xyz', mgo_super)\n",
    "# mgo_super_fix = read('mgo.xyz')\n",
    "# len(mgo_super_fix)"
   ]
  },
  {
   "cell_type": "code",
   "execution_count": 129,
   "id": "0bc9aa25-a45e-4a42-b13d-0796cc032e9b",
   "metadata": {
    "tags": []
   },
   "outputs": [
    {
     "ename": "IndexError",
     "evalue": "index 216 is out of bounds for axis 0 with size 2",
     "output_type": "error",
     "traceback": [
      "\u001b[0;31m---------------------------------------------------------------------------\u001b[0m",
      "\u001b[0;31mIndexError\u001b[0m                                Traceback (most recent call last)",
      "\u001b[0;32m/var/tmp/pbs.8875148.pbs/ipykernel_19633/1731059588.py\u001b[0m in \u001b[0;36m<module>\u001b[0;34m\u001b[0m\n\u001b[1;32m      1\u001b[0m \u001b[0mmgo_super\u001b[0m\u001b[0;34m.\u001b[0m\u001b[0mcalc\u001b[0m \u001b[0;34m=\u001b[0m \u001b[0mcalc\u001b[0m\u001b[0;34m\u001b[0m\u001b[0;34m\u001b[0m\u001b[0m\n\u001b[0;32m----> 2\u001b[0;31m \u001b[0mmgo_super\u001b[0m\u001b[0;34m.\u001b[0m\u001b[0mget_potential_energy\u001b[0m\u001b[0;34m(\u001b[0m\u001b[0;34m)\u001b[0m\u001b[0;34m\u001b[0m\u001b[0;34m\u001b[0m\u001b[0m\n\u001b[0m",
      "\u001b[0;32m~/anaconda3/envs/ase/lib/python3.9/site-packages/ase/atoms.py\u001b[0m in \u001b[0;36mget_potential_energy\u001b[0;34m(self, force_consistent, apply_constraint)\u001b[0m\n\u001b[1;32m    729\u001b[0m                 self, force_consistent=force_consistent)\n\u001b[1;32m    730\u001b[0m         \u001b[0;32melse\u001b[0m\u001b[0;34m:\u001b[0m\u001b[0;34m\u001b[0m\u001b[0;34m\u001b[0m\u001b[0m\n\u001b[0;32m--> 731\u001b[0;31m             \u001b[0menergy\u001b[0m \u001b[0;34m=\u001b[0m \u001b[0mself\u001b[0m\u001b[0;34m.\u001b[0m\u001b[0m_calc\u001b[0m\u001b[0;34m.\u001b[0m\u001b[0mget_potential_energy\u001b[0m\u001b[0;34m(\u001b[0m\u001b[0mself\u001b[0m\u001b[0;34m)\u001b[0m\u001b[0;34m\u001b[0m\u001b[0;34m\u001b[0m\u001b[0m\n\u001b[0m\u001b[1;32m    732\u001b[0m         \u001b[0;32mif\u001b[0m \u001b[0mapply_constraint\u001b[0m\u001b[0;34m:\u001b[0m\u001b[0;34m\u001b[0m\u001b[0;34m\u001b[0m\u001b[0m\n\u001b[1;32m    733\u001b[0m             \u001b[0;32mfor\u001b[0m \u001b[0mconstraint\u001b[0m \u001b[0;32min\u001b[0m \u001b[0mself\u001b[0m\u001b[0;34m.\u001b[0m\u001b[0mconstraints\u001b[0m\u001b[0;34m:\u001b[0m\u001b[0;34m\u001b[0m\u001b[0;34m\u001b[0m\u001b[0m\n",
      "\u001b[0;32m~/anaconda3/envs/ase/lib/python3.9/site-packages/ase/calculators/calculator.py\u001b[0m in \u001b[0;36mget_potential_energy\u001b[0;34m(self, atoms, force_consistent)\u001b[0m\n\u001b[1;32m    707\u001b[0m \u001b[0;34m\u001b[0m\u001b[0m\n\u001b[1;32m    708\u001b[0m     \u001b[0;32mdef\u001b[0m \u001b[0mget_potential_energy\u001b[0m\u001b[0;34m(\u001b[0m\u001b[0mself\u001b[0m\u001b[0;34m,\u001b[0m \u001b[0matoms\u001b[0m\u001b[0;34m=\u001b[0m\u001b[0;32mNone\u001b[0m\u001b[0;34m,\u001b[0m \u001b[0mforce_consistent\u001b[0m\u001b[0;34m=\u001b[0m\u001b[0;32mFalse\u001b[0m\u001b[0;34m)\u001b[0m\u001b[0;34m:\u001b[0m\u001b[0;34m\u001b[0m\u001b[0;34m\u001b[0m\u001b[0m\n\u001b[0;32m--> 709\u001b[0;31m         \u001b[0menergy\u001b[0m \u001b[0;34m=\u001b[0m \u001b[0mself\u001b[0m\u001b[0;34m.\u001b[0m\u001b[0mget_property\u001b[0m\u001b[0;34m(\u001b[0m\u001b[0;34m'energy'\u001b[0m\u001b[0;34m,\u001b[0m \u001b[0matoms\u001b[0m\u001b[0;34m)\u001b[0m\u001b[0;34m\u001b[0m\u001b[0;34m\u001b[0m\u001b[0m\n\u001b[0m\u001b[1;32m    710\u001b[0m         \u001b[0;32mif\u001b[0m \u001b[0mforce_consistent\u001b[0m\u001b[0;34m:\u001b[0m\u001b[0;34m\u001b[0m\u001b[0;34m\u001b[0m\u001b[0m\n\u001b[1;32m    711\u001b[0m             \u001b[0;32mif\u001b[0m \u001b[0;34m'free_energy'\u001b[0m \u001b[0;32mnot\u001b[0m \u001b[0;32min\u001b[0m \u001b[0mself\u001b[0m\u001b[0;34m.\u001b[0m\u001b[0mresults\u001b[0m\u001b[0;34m:\u001b[0m\u001b[0;34m\u001b[0m\u001b[0;34m\u001b[0m\u001b[0m\n",
      "\u001b[0;32m~/anaconda3/envs/ase/lib/python3.9/site-packages/ase/calculators/calculator.py\u001b[0m in \u001b[0;36mget_property\u001b[0;34m(self, name, atoms, allow_calculation)\u001b[0m\n\u001b[1;32m    735\u001b[0m             \u001b[0;32mif\u001b[0m \u001b[0;32mnot\u001b[0m \u001b[0mallow_calculation\u001b[0m\u001b[0;34m:\u001b[0m\u001b[0;34m\u001b[0m\u001b[0;34m\u001b[0m\u001b[0m\n\u001b[1;32m    736\u001b[0m                 \u001b[0;32mreturn\u001b[0m \u001b[0;32mNone\u001b[0m\u001b[0;34m\u001b[0m\u001b[0;34m\u001b[0m\u001b[0m\n\u001b[0;32m--> 737\u001b[0;31m             \u001b[0mself\u001b[0m\u001b[0;34m.\u001b[0m\u001b[0mcalculate\u001b[0m\u001b[0;34m(\u001b[0m\u001b[0matoms\u001b[0m\u001b[0;34m,\u001b[0m \u001b[0;34m[\u001b[0m\u001b[0mname\u001b[0m\u001b[0;34m]\u001b[0m\u001b[0;34m,\u001b[0m \u001b[0msystem_changes\u001b[0m\u001b[0;34m)\u001b[0m\u001b[0;34m\u001b[0m\u001b[0;34m\u001b[0m\u001b[0m\n\u001b[0m\u001b[1;32m    738\u001b[0m \u001b[0;34m\u001b[0m\u001b[0m\n\u001b[1;32m    739\u001b[0m         \u001b[0;32mif\u001b[0m \u001b[0mname\u001b[0m \u001b[0;32mnot\u001b[0m \u001b[0;32min\u001b[0m \u001b[0mself\u001b[0m\u001b[0;34m.\u001b[0m\u001b[0mresults\u001b[0m\u001b[0;34m:\u001b[0m\u001b[0;34m\u001b[0m\u001b[0;34m\u001b[0m\u001b[0m\n",
      "\u001b[0;32m~/anaconda3/envs/ase/lib/python3.9/site-packages/ase/calculators/vasp/vasp.py\u001b[0m in \u001b[0;36mcalculate\u001b[0;34m(self, atoms, properties, system_changes)\u001b[0m\n\u001b[1;32m    328\u001b[0m \u001b[0;34m\u001b[0m\u001b[0m\n\u001b[1;32m    329\u001b[0m         \u001b[0;31m# Read results from calculation\u001b[0m\u001b[0;34m\u001b[0m\u001b[0;34m\u001b[0m\u001b[0m\n\u001b[0;32m--> 330\u001b[0;31m         \u001b[0mself\u001b[0m\u001b[0;34m.\u001b[0m\u001b[0mupdate_atoms\u001b[0m\u001b[0;34m(\u001b[0m\u001b[0matoms\u001b[0m\u001b[0;34m)\u001b[0m\u001b[0;34m\u001b[0m\u001b[0;34m\u001b[0m\u001b[0m\n\u001b[0m\u001b[1;32m    331\u001b[0m         \u001b[0mself\u001b[0m\u001b[0;34m.\u001b[0m\u001b[0mread_results\u001b[0m\u001b[0;34m(\u001b[0m\u001b[0;34m)\u001b[0m\u001b[0;34m\u001b[0m\u001b[0;34m\u001b[0m\u001b[0m\n\u001b[1;32m    332\u001b[0m \u001b[0;34m\u001b[0m\u001b[0m\n",
      "\u001b[0;32m~/anaconda3/envs/ase/lib/python3.9/site-packages/ase/calculators/vasp/vasp.py\u001b[0m in \u001b[0;36mupdate_atoms\u001b[0;34m(self, atoms)\u001b[0m\n\u001b[1;32m    541\u001b[0m                 \u001b[0;31m# from CONTCAR.\u001b[0m\u001b[0;34m\u001b[0m\u001b[0;34m\u001b[0m\u001b[0m\n\u001b[1;32m    542\u001b[0m                 \u001b[0matoms_sorted\u001b[0m \u001b[0;34m=\u001b[0m \u001b[0mread\u001b[0m\u001b[0;34m(\u001b[0m\u001b[0mself\u001b[0m\u001b[0;34m.\u001b[0m\u001b[0m_indir\u001b[0m\u001b[0;34m(\u001b[0m\u001b[0;34m'CONTCAR'\u001b[0m\u001b[0;34m)\u001b[0m\u001b[0;34m)\u001b[0m\u001b[0;34m\u001b[0m\u001b[0;34m\u001b[0m\u001b[0m\n\u001b[0;32m--> 543\u001b[0;31m                 \u001b[0matoms\u001b[0m\u001b[0;34m.\u001b[0m\u001b[0mpositions\u001b[0m \u001b[0;34m=\u001b[0m \u001b[0matoms_sorted\u001b[0m\u001b[0;34m[\u001b[0m\u001b[0mself\u001b[0m\u001b[0;34m.\u001b[0m\u001b[0mresort\u001b[0m\u001b[0;34m]\u001b[0m\u001b[0;34m.\u001b[0m\u001b[0mpositions\u001b[0m\u001b[0;34m\u001b[0m\u001b[0;34m\u001b[0m\u001b[0m\n\u001b[0m\u001b[1;32m    544\u001b[0m                 \u001b[0matoms\u001b[0m\u001b[0;34m.\u001b[0m\u001b[0mcell\u001b[0m \u001b[0;34m=\u001b[0m \u001b[0matoms_sorted\u001b[0m\u001b[0;34m.\u001b[0m\u001b[0mcell\u001b[0m\u001b[0;34m\u001b[0m\u001b[0;34m\u001b[0m\u001b[0m\n\u001b[1;32m    545\u001b[0m \u001b[0;34m\u001b[0m\u001b[0m\n",
      "\u001b[0;32m~/anaconda3/envs/ase/lib/python3.9/site-packages/ase/atoms.py\u001b[0m in \u001b[0;36m__getitem__\u001b[0;34m(self, i)\u001b[0m\n\u001b[1;32m   1122\u001b[0m         \u001b[0matoms\u001b[0m\u001b[0;34m.\u001b[0m\u001b[0marrays\u001b[0m \u001b[0;34m=\u001b[0m \u001b[0;34m{\u001b[0m\u001b[0;34m}\u001b[0m\u001b[0;34m\u001b[0m\u001b[0;34m\u001b[0m\u001b[0m\n\u001b[1;32m   1123\u001b[0m         \u001b[0;32mfor\u001b[0m \u001b[0mname\u001b[0m\u001b[0;34m,\u001b[0m \u001b[0ma\u001b[0m \u001b[0;32min\u001b[0m \u001b[0mself\u001b[0m\u001b[0;34m.\u001b[0m\u001b[0marrays\u001b[0m\u001b[0;34m.\u001b[0m\u001b[0mitems\u001b[0m\u001b[0;34m(\u001b[0m\u001b[0;34m)\u001b[0m\u001b[0;34m:\u001b[0m\u001b[0;34m\u001b[0m\u001b[0;34m\u001b[0m\u001b[0m\n\u001b[0;32m-> 1124\u001b[0;31m             \u001b[0matoms\u001b[0m\u001b[0;34m.\u001b[0m\u001b[0marrays\u001b[0m\u001b[0;34m[\u001b[0m\u001b[0mname\u001b[0m\u001b[0;34m]\u001b[0m \u001b[0;34m=\u001b[0m \u001b[0ma\u001b[0m\u001b[0;34m[\u001b[0m\u001b[0mi\u001b[0m\u001b[0;34m]\u001b[0m\u001b[0;34m.\u001b[0m\u001b[0mcopy\u001b[0m\u001b[0;34m(\u001b[0m\u001b[0;34m)\u001b[0m\u001b[0;34m\u001b[0m\u001b[0;34m\u001b[0m\u001b[0m\n\u001b[0m\u001b[1;32m   1125\u001b[0m \u001b[0;34m\u001b[0m\u001b[0m\n\u001b[1;32m   1126\u001b[0m         \u001b[0matoms\u001b[0m\u001b[0;34m.\u001b[0m\u001b[0mconstraints\u001b[0m \u001b[0;34m=\u001b[0m \u001b[0mconadd\u001b[0m\u001b[0;34m\u001b[0m\u001b[0;34m\u001b[0m\u001b[0m\n",
      "\u001b[0;31mIndexError\u001b[0m: index 216 is out of bounds for axis 0 with size 2"
     ]
    }
   ],
   "source": [
    "mgo_super.calc = calc\n",
    "mgo_super.get_potential_energy()"
   ]
  }
 ],
 "metadata": {
  "kernelspec": {
   "display_name": "Python 3 (ipykernel)",
   "language": "python",
   "name": "python3"
  },
  "language_info": {
   "codemirror_mode": {
    "name": "ipython",
    "version": 3
   },
   "file_extension": ".py",
   "mimetype": "text/x-python",
   "name": "python",
   "nbconvert_exporter": "python",
   "pygments_lexer": "ipython3",
   "version": "3.9.7"
  }
 },
 "nbformat": 4,
 "nbformat_minor": 5
}
