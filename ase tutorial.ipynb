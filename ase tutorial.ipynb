{
 "cells": [
  {
   "cell_type": "code",
   "execution_count": null,
   "id": "38a45196-e3e7-4f28-9d27-25a12b33ddae",
   "metadata": {
    "tags": []
   },
   "outputs": [],
   "source": [
    "import numpy as np\n",
    "from matplotlib import pyplot as plt\n",
    "from tqdm.notebook import tqdm\n",
    "from copy import copy\n",
    "import os"
   ]
  },
  {
   "cell_type": "markdown",
   "id": "24c1a30b-c500-4e50-b521-7b9c42be7cd5",
   "metadata": {},
   "source": [
    "Object-oriented programming (OOP) is a programming paradigm based on the concept of \"objects\", which can contain data and code: data in the form of fields (often known as attributes or properties), and code, in the form of procedures (often known as methods)."
   ]
  },
  {
   "cell_type": "markdown",
   "id": "1eaddfdc-f6cc-44eb-97cd-40767b5a0541",
   "metadata": {},
   "source": [
    "https://en.wikipedia.org/wiki/Object-oriented_programming"
   ]
  },
  {
   "cell_type": "markdown",
   "id": "4f9a9283-5312-44aa-839b-19acdfe08910",
   "metadata": {},
   "source": [
    "# ASE\n",
    "Atomic Simulation Environment \n",
    "https://wiki.fysik.dtu.dk/ase/"
   ]
  },
  {
   "cell_type": "markdown",
   "id": "23493766-f2e6-4ef8-8051-7e815f720aae",
   "metadata": {
    "tags": []
   },
   "source": [
    "# Atoms Object"
   ]
  },
  {
   "cell_type": "markdown",
   "id": "d8df686b-5981-4a37-833d-c1c0c49e3e32",
   "metadata": {},
   "source": [
    "https://wiki.fysik.dtu.dk/ase/ase/atoms.html#module-ase.atoms"
   ]
  },
  {
   "cell_type": "code",
   "execution_count": null,
   "id": "097c95a5-7c85-4177-a9a6-5c4ec2469fbe",
   "metadata": {
    "tags": []
   },
   "outputs": [],
   "source": [
    "from ase import Atoms, Atom\n",
    "from ase.visualize import ngl\n",
    "d = 1.1\n",
    "co = Atoms([Atom('C', (0, 0, 0)), \n",
    "            Atom('O', (0, 0, d))])\n",
    "# ngl.view_ngl(co, w=500, h=500)"
   ]
  },
  {
   "cell_type": "markdown",
   "id": "a37c12c2-073b-4631-85ca-8354488dff00",
   "metadata": {},
   "source": [
    "## Positions"
   ]
  },
  {
   "cell_type": "code",
   "execution_count": null,
   "id": "8b2aa455-6f58-4122-989b-e67b8e457eba",
   "metadata": {
    "tags": []
   },
   "outputs": [],
   "source": [
    "co.positions"
   ]
  },
  {
   "cell_type": "code",
   "execution_count": null,
   "id": "adcae681-ac33-476e-aaf1-3fe5a7962e41",
   "metadata": {
    "tags": []
   },
   "outputs": [],
   "source": [
    "co.get_positions()"
   ]
  },
  {
   "cell_type": "code",
   "execution_count": null,
   "id": "b9aed9d4-8529-4f77-afc7-505590ec13a1",
   "metadata": {
    "tags": []
   },
   "outputs": [],
   "source": [
    "co.set_positions"
   ]
  },
  {
   "cell_type": "code",
   "execution_count": null,
   "id": "1b59936f-a62d-4d91-9bb1-b2e186b0cd85",
   "metadata": {
    "tags": []
   },
   "outputs": [],
   "source": [
    "co.positions[1, 2] = 1\n",
    "co.positions"
   ]
  },
  {
   "cell_type": "code",
   "execution_count": null,
   "id": "8424e293-f363-49b2-9431-7dd8e7164829",
   "metadata": {
    "tags": []
   },
   "outputs": [],
   "source": [
    "co.set_positions(np.array([[   0.,    0.,    0.],\n",
    "                           [   0.,    0., 0.7]]))\n",
    "co.positions"
   ]
  },
  {
   "cell_type": "markdown",
   "id": "6d3a2334-2cf8-4603-bfcf-3516a543b164",
   "metadata": {},
   "source": [
    "## Calculator\n",
    "https://wiki.fysik.dtu.dk/ase/ase/calculators/calculators.html#module-ase.calculatorshttps://wiki.fysik.dtu.dk/ase/ase/calculators/calculators.html#module-ase.calculators"
   ]
  },
  {
   "cell_type": "code",
   "execution_count": null,
   "id": "b3d42d13-848d-4e6b-ba11-234092bd7e55",
   "metadata": {},
   "outputs": [],
   "source": [
    "from ase.calculators.emt import EMT\n",
    "co.calc = EMT()"
   ]
  },
  {
   "cell_type": "code",
   "execution_count": null,
   "id": "770252a1-25d8-40a8-b162-edef6c36be50",
   "metadata": {},
   "outputs": [],
   "source": [
    "#co.get_potential_energy()"
   ]
  },
  {
   "cell_type": "code",
   "execution_count": null,
   "id": "b6d5abc5-1805-420a-b7eb-4b96bbd4abd3",
   "metadata": {},
   "outputs": [],
   "source": [
    "co.get_forces()"
   ]
  },
  {
   "cell_type": "code",
   "execution_count": null,
   "id": "59525177-b303-414d-baa3-7266d7f3faf6",
   "metadata": {},
   "outputs": [],
   "source": [
    "for d in np.arange(0.5, 1.8, 0.1):\n",
    "    co.positions[1, 2] = d\n",
    "    print(f'{d:.1f}, {co.get_potential_energy():.3f}')"
   ]
  },
  {
   "cell_type": "code",
   "execution_count": null,
   "id": "82831d2f-9874-4bd8-bb86-ab4251df2807",
   "metadata": {},
   "outputs": [],
   "source": [
    "x, y = [], [] \n",
    "for d in np.arange(0.5, 1.5, 0.001):\n",
    "    co.positions[1, 2] = d\n",
    "    x.append(d)\n",
    "    y.append(co.get_potential_energy())"
   ]
  },
  {
   "cell_type": "code",
   "execution_count": null,
   "id": "2c8cfb1f-b84a-4309-9d88-bfda7a6e5df6",
   "metadata": {},
   "outputs": [],
   "source": [
    "plt.plot(x, y)"
   ]
  },
  {
   "cell_type": "code",
   "execution_count": null,
   "id": "8474ca5c-4149-4510-a34b-436f38222f16",
   "metadata": {},
   "outputs": [],
   "source": [
    "co.positions[1, 2] = 1.05597\n",
    "co.get_forces()"
   ]
  },
  {
   "cell_type": "markdown",
   "id": "c74930bc-b787-44b8-a075-d6f6726fb797",
   "metadata": {},
   "source": [
    "# Atoms Manipulation"
   ]
  },
  {
   "cell_type": "markdown",
   "id": "594d29d9-679e-4da6-bd4a-c6865a133054",
   "metadata": {},
   "source": [
    "## Crystal Structure"
   ]
  },
  {
   "cell_type": "code",
   "execution_count": null,
   "id": "ec0113d2-429a-4aed-bbc7-31c9212f4700",
   "metadata": {},
   "outputs": [],
   "source": [
    "a = 3.519\n",
    "atoms = Atoms([Atom('Ni', (0, 0, 0)), \n",
    "               Atom('Ni', (0, a/2, a/2)),\n",
    "               Atom('Ni', (a/2, 0, a/2)),\n",
    "               Atom('Ni', (a/2, a/2, 0))])\n",
    "ngl.view_ngl(atoms, w=300, h=300)"
   ]
  },
  {
   "cell_type": "code",
   "execution_count": null,
   "id": "5b07d064-6ba4-43e1-b2a5-9cb680cc5795",
   "metadata": {},
   "outputs": [],
   "source": [
    "b = 10\n",
    "atoms.set_positions([(0, 0, 0), \n",
    "                     (0, b, b), \n",
    "                     (b, 0, b), \n",
    "                     (b, b, 0)])\n",
    "ngl.view_ngl(atoms, w=300, h=300)"
   ]
  },
  {
   "cell_type": "code",
   "execution_count": null,
   "id": "eb4f0d0a-3502-4876-aa85-7802d9040194",
   "metadata": {},
   "outputs": [],
   "source": [
    "atoms.set_positions([(0, 0, 0), \n",
    "                     (0, a/2, a/2), \n",
    "                     (a/2, 0, a/2), \n",
    "                     (a/2, a/2, 0)])"
   ]
  },
  {
   "cell_type": "code",
   "execution_count": null,
   "id": "b7786200-4b2d-458e-b09c-cf7ce55e976b",
   "metadata": {},
   "outputs": [],
   "source": [
    "atoms.cell"
   ]
  },
  {
   "cell_type": "code",
   "execution_count": null,
   "id": "50d5123c-5c01-42d0-b957-b57cacdc3f9b",
   "metadata": {},
   "outputs": [],
   "source": [
    "atoms.set_cell([a, a, a])"
   ]
  },
  {
   "cell_type": "code",
   "execution_count": null,
   "id": "9e526f27-20eb-4d5c-a608-55c8af002be4",
   "metadata": {},
   "outputs": [],
   "source": [
    "atoms.cell[:]"
   ]
  },
  {
   "cell_type": "code",
   "execution_count": null,
   "id": "5379815b-5f37-4aca-9703-b44d1d19b657",
   "metadata": {},
   "outputs": [],
   "source": [
    "atoms.set_pbc(True)"
   ]
  },
  {
   "cell_type": "code",
   "execution_count": null,
   "id": "74f8e278-07e0-43d2-bd82-f5b5ac9140ab",
   "metadata": {},
   "outputs": [],
   "source": [
    "ngl.view_ngl(atoms, w=300, h=300)"
   ]
  },
  {
   "cell_type": "code",
   "execution_count": null,
   "id": "b6f67379-9adb-4037-87b3-e4fa866943be",
   "metadata": {},
   "outputs": [],
   "source": [
    "ngl.view_ngl(atoms*2, w=300, h=300)"
   ]
  },
  {
   "cell_type": "code",
   "execution_count": null,
   "id": "6ab3e1b3-14e8-420b-bc55-cca90c75144a",
   "metadata": {},
   "outputs": [],
   "source": [
    "ngl.view_ngl(atoms*[1, 2, 4], w=300, h=300)"
   ]
  },
  {
   "cell_type": "code",
   "execution_count": null,
   "id": "db8b880a-d6ed-4663-8bd8-5c1ab7172e25",
   "metadata": {},
   "outputs": [],
   "source": [
    "atoms.calc = EMT()\n",
    "atoms.get_potential_energy()"
   ]
  },
  {
   "cell_type": "code",
   "execution_count": null,
   "id": "104db7b3-0cc8-4453-9c0f-1bc06679d906",
   "metadata": {},
   "outputs": [],
   "source": [
    "a = 3.519\n",
    "atoms = Atoms([Atom('Ni', (0, 0, 0))])\n",
    "atoms.set_cell([[a/2, a/2, 0], \n",
    "                [0, a/2, a/2],\n",
    "                [a/2, 0, a/2]])\n",
    "atoms.set_pbc(True)\n",
    "atoms.calc = EMT()\n",
    "atoms.get_potential_energy()"
   ]
  },
  {
   "cell_type": "code",
   "execution_count": null,
   "id": "8e7a6486-53ee-44fc-9b28-42fb359212ac",
   "metadata": {},
   "outputs": [],
   "source": [
    "ngl.view_ngl(atoms, w=300, h=300)"
   ]
  },
  {
   "cell_type": "code",
   "execution_count": null,
   "id": "5ae906bc-4c52-408c-894d-199195af88d3",
   "metadata": {},
   "outputs": [],
   "source": [
    "atoms.cell\n",
    "atoms.cell[:]"
   ]
  },
  {
   "cell_type": "markdown",
   "id": "e31b3525-cbaa-4cf3-a6eb-931dfaad7977",
   "metadata": {},
   "source": [
    "## Super Cell"
   ]
  },
  {
   "cell_type": "code",
   "execution_count": null,
   "id": "b67482b6-6fc9-46f8-acf9-d315c8f75e70",
   "metadata": {},
   "outputs": [],
   "source": [
    "a = 5.4307\n",
    "atoms = Atoms([Atom('Si', (0, 0, 0)), \n",
    "               Atom('Si', (0, a/2, a/2)),\n",
    "               Atom('Si', (a/2, 0, a/2)),\n",
    "               Atom('Si', (a/2, a/2, 0))])\n",
    "ngl.view_ngl(atoms, w=300, h=300)"
   ]
  },
  {
   "cell_type": "code",
   "execution_count": null,
   "id": "bad0784a-b44a-457e-90b8-28c634cfd1a8",
   "metadata": {},
   "outputs": [],
   "source": [
    "supercell = atoms + atoms\n",
    "print(supercell)"
   ]
  },
  {
   "cell_type": "code",
   "execution_count": null,
   "id": "fcbae1bb-35fa-44f9-9a02-6984b405649e",
   "metadata": {},
   "outputs": [],
   "source": [
    "supercell.positions"
   ]
  },
  {
   "cell_type": "code",
   "execution_count": null,
   "id": "d0d6a945-28f7-49c6-b6f1-1fcc5d739c66",
   "metadata": {},
   "outputs": [],
   "source": [
    "translate_atoms = atoms.copy()\n",
    "translate_atoms.translate([0.25*a, 0.25*a, 0.25*a])"
   ]
  },
  {
   "cell_type": "code",
   "execution_count": null,
   "id": "5d338ba3-4a81-4237-8b9e-229630552383",
   "metadata": {},
   "outputs": [],
   "source": [
    "supercell = atoms + translate_atoms\n",
    "supercell.set_cell([a, a, a])\n",
    "supercell.set_pbc(True)"
   ]
  },
  {
   "cell_type": "code",
   "execution_count": null,
   "id": "adfec76d-fda2-47c7-9025-e0af6b1b77fd",
   "metadata": {},
   "outputs": [],
   "source": [
    "ngl.view_ngl(supercell, w=300, h=300)"
   ]
  },
  {
   "cell_type": "markdown",
   "id": "2c0e0b5a-883f-4616-8587-e3d9a1ce3f8e",
   "metadata": {},
   "source": [
    "## Organic"
   ]
  },
  {
   "cell_type": "code",
   "execution_count": null,
   "id": "d39bb662-d57d-47af-be95-4add4ee1ed5c",
   "metadata": {},
   "outputs": [],
   "source": [
    "from ase.io import read, write\n",
    "molecule = read('ethylbenzene.xyz')\n",
    "ngl.view_ngl(molecule, w=400, h=400)"
   ]
  },
  {
   "cell_type": "code",
   "execution_count": null,
   "id": "2ac8eb0d-c7bd-4ade-9da5-21faf9542acc",
   "metadata": {},
   "outputs": [],
   "source": [
    "molecule_pop = molecule.copy()\n",
    "molecule_pop.pop(2)\n",
    "ngl.view_ngl(molecule_pop, w=300, h=300) # 1 2 3 5 6 7 10 11 15 16 17"
   ]
  },
  {
   "cell_type": "code",
   "execution_count": null,
   "id": "c67ab247-e04c-4355-91d9-32bab0387ed5",
   "metadata": {},
   "outputs": [],
   "source": [
    "tags = np.zeros(len(molecule))\n",
    "tags[np.array([1,2,3,5,6,7,10,11,15,16,17])] = 1\n",
    "molecule.set_tags(tags)\n",
    "molecule.get_tags()"
   ]
  },
  {
   "cell_type": "code",
   "execution_count": null,
   "id": "973dad40-b39f-45bb-8c18-16e45f62fd38",
   "metadata": {},
   "outputs": [],
   "source": [
    "molecule[molecule.get_tags() == 1]"
   ]
  },
  {
   "cell_type": "code",
   "execution_count": null,
   "id": "c2837cbb-fe40-4c5f-9563-60788c67db54",
   "metadata": {},
   "outputs": [],
   "source": [
    "ngl.view_ngl(molecule[molecule.get_tags() == 1], w=400, h=400)"
   ]
  },
  {
   "cell_type": "code",
   "execution_count": null,
   "id": "3e76e275-f226-4cce-a303-c3fbf80465d3",
   "metadata": {},
   "outputs": [],
   "source": [
    "from numpy import pi ,sin, cos\n",
    "\n",
    "def R(theta, u):\n",
    "    return np.array([[cos(theta) + u[0]**2 * (1-cos(theta)), \n",
    "             u[0] * u[1] * (1-cos(theta)) - u[2] * sin(theta), \n",
    "             u[0] * u[2] * (1 - cos(theta)) + u[1] * sin(theta)],\n",
    "            [u[0] * u[1] * (1-cos(theta)) + u[2] * sin(theta),\n",
    "             cos(theta) + u[1]**2 * (1-cos(theta)),\n",
    "             u[1] * u[2] * (1 - cos(theta)) - u[0] * sin(theta)],\n",
    "            [u[0] * u[2] * (1-cos(theta)) - u[1] * sin(theta),\n",
    "             u[1] * u[2] * (1-cos(theta)) + u[0] * sin(theta),\n",
    "             cos(theta) + u[2]**2 * (1-cos(theta))]])"
   ]
  },
  {
   "cell_type": "code",
   "execution_count": null,
   "id": "41957dcf-d379-4014-b526-3dd0ab278c83",
   "metadata": {},
   "outputs": [],
   "source": [
    "molecule.positions -= molecule.positions[1]"
   ]
  },
  {
   "cell_type": "code",
   "execution_count": null,
   "id": "669e2885-695d-439e-a577-53cc2d64a249",
   "metadata": {},
   "outputs": [],
   "source": [
    "molecule.positions[1]"
   ]
  },
  {
   "cell_type": "code",
   "execution_count": null,
   "id": "94d7858d-2a8d-4263-93eb-d064c21d012d",
   "metadata": {},
   "outputs": [],
   "source": [
    "molecule.positions[7]"
   ]
  },
  {
   "cell_type": "code",
   "execution_count": null,
   "id": "b13301b6-c091-4418-8c80-7e7da71decbb",
   "metadata": {},
   "outputs": [],
   "source": [
    "u = molecule.positions[7]/np.linalg.norm(molecule.positions[7])\n",
    "u"
   ]
  },
  {
   "cell_type": "code",
   "execution_count": null,
   "id": "54aebfb6-0dee-42cb-9f18-6191774f5f0d",
   "metadata": {},
   "outputs": [],
   "source": [
    "ngl.view_ngl(molecule, w=500, h=500)"
   ]
  },
  {
   "cell_type": "code",
   "execution_count": null,
   "id": "af54a8fd-fa14-49cf-b896-7fc6f9d9b27f",
   "metadata": {},
   "outputs": [],
   "source": [
    "molecule_rot = molecule.copy()\n",
    "positions = molecule_rot.get_positions()\n",
    "positions[molecule_rot.get_tags()==1] = R(pi/2, u).dot(positions[molecule_rot.get_tags()==1].T).T\n",
    "molecule_rot.set_positions(positions)"
   ]
  },
  {
   "cell_type": "code",
   "execution_count": null,
   "id": "a2accf8d-a7f3-4411-a15c-eb3cb3147c5d",
   "metadata": {},
   "outputs": [],
   "source": [
    "ngl.view_ngl(molecule_rot, w=500, h=500)"
   ]
  },
  {
   "cell_type": "code",
   "execution_count": null,
   "id": "2193efcc-05f0-4039-98f4-eff7d1e8b0ea",
   "metadata": {},
   "outputs": [],
   "source": [
    "mols = []\n",
    "x, y = [], []\n",
    "for alpha in np.linspace(0, pi, 100):\n",
    "    molecule_rot = molecule.copy()\n",
    "    positions = molecule_rot.positions\n",
    "    positions[molecule_rot.get_tags()==1] = R(alpha, u).dot(positions[molecule_rot.get_tags()==1].T).T\n",
    "    molecule_rot.set_positions(positions)\n",
    "    mols.append(molecule_rot)\n",
    "    x.append(alpha)\n",
    "    molecule_rot.calc = EMT()\n",
    "    y.append(molecule_rot.get_potential_energy())\n",
    "ngl.view_ngl(mols, w=300, h=300)"
   ]
  },
  {
   "cell_type": "code",
   "execution_count": null,
   "id": "713dd2b5-ebd0-4bf8-9f7c-6a2fb94dabcf",
   "metadata": {},
   "outputs": [],
   "source": [
    "plt.plot(x, y)"
   ]
  },
  {
   "cell_type": "markdown",
   "id": "469bbdb6-4896-4fee-ae55-c8bd8d18f4cd",
   "metadata": {},
   "source": [
    "# VASP Calculator "
   ]
  },
  {
   "cell_type": "code",
   "execution_count": null,
   "id": "d3e7f1ce-e38d-40db-9113-621e47dbad12",
   "metadata": {},
   "outputs": [],
   "source": [
    "d = 1.1\n",
    "co = Atoms('CO', positions=[(0, 0, 0), (0, 0, d)])\n",
    "ngl.view_ngl(co, w=500, h=500)"
   ]
  },
  {
   "cell_type": "code",
   "execution_count": null,
   "id": "bb14bf98-d379-4c37-9fd8-45d3a037d319",
   "metadata": {},
   "outputs": [],
   "source": [
    "from ase.calculators.vasp import Vasp\n",
    "calc = Vasp(command=f'mpirun -n 36 vasp_std' ,\n",
    "               kpts=(1, 1, 1),\n",
    "               encut=100,\n",
    "               setups={'C': '', 'O': ''},\n",
    "               directory='VASP',\n",
    "               xc='PBE')\n",
    "co.calc = calc"
   ]
  },
  {
   "cell_type": "code",
   "execution_count": null,
   "id": "b8a3e755-2379-4cdb-b6d8-fc374c0d092a",
   "metadata": {},
   "outputs": [],
   "source": [
    "potcar_list = ['C', 'O']\n",
    "for pot in potcar_list:\n",
    "    pp_source_dir = '/home/lkgroup/potentials/VASP/PBE/'\n",
    "    with open(pp_source_dir + pot + '/POTCAR', 'r') as f:\n",
    "        potcar = f.read()\n",
    "    try:\n",
    "        os.makedirs(f'/home/oz/sync/vasp_pp/potpaw_PBE/{pot}/')\n",
    "    except FileExistsError:\n",
    "        pass\n",
    "    with open(f'/home/oz/sync/vasp_pp/potpaw_PBE/{pot}/POTCAR', 'w') as f:\n",
    "        f.write(potcar)"
   ]
  },
  {
   "cell_type": "code",
   "execution_count": null,
   "id": "aa7d6794-0b83-42af-81b2-43a167fb943d",
   "metadata": {},
   "outputs": [],
   "source": [
    "co.get_potential_energy()"
   ]
  },
  {
   "cell_type": "code",
   "execution_count": null,
   "id": "da3556b5-d536-448c-9f0b-9c85e8783cac",
   "metadata": {},
   "outputs": [],
   "source": [
    "co.set_cell([10, 10, 10])\n",
    "co.set_pbc(True)"
   ]
  },
  {
   "cell_type": "code",
   "execution_count": null,
   "id": "05a4eddf-7f0d-46db-9279-585e400723d1",
   "metadata": {},
   "outputs": [],
   "source": [
    "co.get_potential_energy()"
   ]
  },
  {
   "cell_type": "code",
   "execution_count": null,
   "id": "6ca64fee-021f-4487-a52b-8381ccf5b041",
   "metadata": {
    "tags": []
   },
   "outputs": [],
   "source": [
    "!cat VASP/vasp.out"
   ]
  },
  {
   "cell_type": "code",
   "execution_count": null,
   "id": "6aeaadfe-c8ac-4c76-8470-b3320d76aa1e",
   "metadata": {},
   "outputs": [],
   "source": [
    "x, y = [], [] \n",
    "for d in tqdm(np.linspace(1, 1.5, 10)):\n",
    "    co.positions[1, 2] = d\n",
    "    x.append(d)\n",
    "    y.append(co.get_potential_energy())"
   ]
  },
  {
   "cell_type": "code",
   "execution_count": null,
   "id": "29b61292-01cb-4d01-b8c9-f0688b83af57",
   "metadata": {},
   "outputs": [],
   "source": [
    "plt.plot(x,y)"
   ]
  },
  {
   "cell_type": "code",
   "execution_count": null,
   "id": "248a663d-229a-4334-9549-a37d1422fc27",
   "metadata": {},
   "outputs": [],
   "source": [
    "co.positions[1, 2] = 1.27016\n",
    "co.get_forces()"
   ]
  },
  {
   "cell_type": "code",
   "execution_count": null,
   "id": "cb7da644-f4bf-411c-8fbf-1ac6db5101e9",
   "metadata": {},
   "outputs": [],
   "source": [
    "a = 5.4307\n",
    "\n",
    "atoms = Atoms([Atom('Si', (0, 0, 0)), \n",
    "               Atom('Si', (0, a/2, a/2)),\n",
    "               Atom('Si', (a/2, 0, a/2)),\n",
    "               Atom('Si', (a/2, a/2, 0))])\n",
    "translate_atoms = atoms.copy()\n",
    "translate_atoms.translate([0.25*a, 0.25*a, 0.25*a])\n",
    "supercell = atoms + translate_atoms\n",
    "supercell.set_cell([a, a, a])\n",
    "supercell.set_pbc(True)\n",
    "\n",
    "calc = Vasp(command=f'mpirun -n 36 vasp_std' ,\n",
    "           kpts=(10, 10, 10),\n",
    "           encut=300,\n",
    "           isym=2,\n",
    "           icharg=2,\n",
    "            directory='VASP',\n",
    "           xc='PBE')\n",
    "supercell.calc = calc\n",
    "positions0 = copy(supercell.positions)\n",
    "cell0 = copy(supercell.cell)"
   ]
  },
  {
   "cell_type": "code",
   "execution_count": null,
   "id": "49b95803-e9d3-4515-b42c-64f69ca22352",
   "metadata": {},
   "outputs": [],
   "source": [
    "x, y = [], []\n",
    "for vol in tqdm(np.linspace(100, 220, 10)):\n",
    "    scale = np.cbrt(vol)/a\n",
    "    supercell.set_positions(positions0*scale)\n",
    "    supercell.set_cell([a*scale, a*scale, a*scale])\n",
    "#     print(a, scale, supercell.cell)\n",
    "    x.append(supercell.get_volume())\n",
    "    y.append(supercell.get_potential_energy())\n",
    "    "
   ]
  },
  {
   "cell_type": "code",
   "execution_count": null,
   "id": "73b59d28-5664-4904-835a-373b8cd2c713",
   "metadata": {},
   "outputs": [],
   "source": [
    "plt.plot(x,y)\n",
    "plt.ylabel('Epot [eV]')\n",
    "plt.xlabel('V [A^3]')\n",
    "plt.title(f'v0: {a**3:.3f}[A^3]')\n",
    "plt.show()"
   ]
  },
  {
   "cell_type": "markdown",
   "id": "a3747ccc-c34d-43e9-918f-27cb880f0e16",
   "metadata": {},
   "source": [
    "# Minimization\n",
    "https://wiki.fysik.dtu.dk/ase/ase/optimize.html#module-ase.optimizehttps://wiki.fysik.dtu.dk/ase/ase/optimize.html#module-ase.optimize"
   ]
  },
  {
   "cell_type": "code",
   "execution_count": null,
   "id": "950a22f8-bfe7-472c-85b2-8e099ab10236",
   "metadata": {
    "tags": []
   },
   "outputs": [],
   "source": [
    "from ase.optimize import BFGS\n",
    "d = 0.9575\n",
    "t = np.pi / 180 * (104.51 - 30)\n",
    "water = Atoms('H2O',\n",
    "              positions=[(d, 0, 0),\n",
    "                         (d * np.cos(t), d * np.sin(t), 0),\n",
    "                         (0, 0, 0)],\n",
    "              calculator=EMT())\n",
    "dyn = BFGS(water, trajectory='H2O.traj') # Broyden–Fletcher–Goldfarb–Shanno algorithm\n",
    "dyn.run(fmax=0.005)"
   ]
  },
  {
   "cell_type": "code",
   "execution_count": null,
   "id": "2790dd71-e0c3-48ea-abde-c513755ca308",
   "metadata": {},
   "outputs": [],
   "source": [
    "from ase.io import Trajectory\n",
    "traj = Trajectory('H2O.traj')\n",
    "ngl.view_ngl(traj, w=500, h=500)"
   ]
  },
  {
   "cell_type": "code",
   "execution_count": null,
   "id": "9c4dd0cb-bae0-484a-8cca-333ce4a612d2",
   "metadata": {
    "tags": []
   },
   "outputs": [],
   "source": [
    "molecule = read('ethylbenzene.xyz')\n",
    "molecule.calc = EMT()\n",
    "dyn = BFGS(molecule, trajectory='ethylbenzene.traj') # Broyden–Fletcher–Goldfarb–Shanno algorithm\n",
    "dyn.run(fmax=0.05)"
   ]
  },
  {
   "cell_type": "code",
   "execution_count": null,
   "id": "061dff0d-50d7-422d-8835-baca62357dc8",
   "metadata": {},
   "outputs": [],
   "source": [
    "traj = Trajectory('ethylbenzene.traj')\n",
    "ngl.view_ngl(traj, w=500, h=500)"
   ]
  },
  {
   "cell_type": "code",
   "execution_count": null,
   "id": "c8d3a138-1089-4e28-b449-879d1b205d77",
   "metadata": {
    "tags": []
   },
   "outputs": [],
   "source": [
    "molecule = read('ethylbenzene.xyz') # Ethylbenzene\n",
    "molecule.calc = Vasp(command=f'mpirun -n 36 vasp_std' ,\n",
    "           kpts=(1, 1, 1),\n",
    "           encut=100,\n",
    "           setups={'C': '', 'H': ''},\n",
    "            directory='VASP',\n",
    "           xc='PBE')\n",
    "molecule.set_cell([20, 20, 20])\n",
    "molecule.set_pbc(True)\n",
    "dyn = BFGS(molecule, trajectory='ethylbenzene_VASP.traj') # Broyden–Fletcher–Goldfarb–Shanno algorithm\n",
    "dyn.run(fmax=0.05)"
   ]
  },
  {
   "cell_type": "code",
   "execution_count": null,
   "id": "99dca827-114f-4c36-a68d-48c35c91c486",
   "metadata": {},
   "outputs": [],
   "source": [
    "traj = Trajectory('ethylbenzene_VASP.traj')\n",
    "ngl.view_ngl(traj, w=500, h=500)"
   ]
  },
  {
   "cell_type": "markdown",
   "id": "4972cdc8-3304-41cf-9be8-5f8996a6c968",
   "metadata": {},
   "source": [
    "# Band Structure"
   ]
  },
  {
   "cell_type": "code",
   "execution_count": null,
   "id": "150e077e-4886-41b9-bd32-33047f2f572a",
   "metadata": {},
   "outputs": [],
   "source": [
    "a = 5.4307\n",
    "atoms = Atoms([Atom('Si', (0, 0, 0))])\n",
    "translate_atoms = atoms.copy()\n",
    "translate_atoms.translate([0.25*a, 0.25*a, 0.25*a])\n",
    "supercell = atoms + translate_atoms\n",
    "supercell.set_cell([[a/2, a/2, 0], \n",
    "                    [0, a/2, a/2],\n",
    "                    [a/2, 0, a/2]])\n",
    "supercell.set_pbc(True)"
   ]
  },
  {
   "cell_type": "code",
   "execution_count": null,
   "id": "46b3302d-24a1-4ec1-9673-f388d8bc87b0",
   "metadata": {},
   "outputs": [],
   "source": [
    "!rm VASP/*"
   ]
  },
  {
   "cell_type": "code",
   "execution_count": null,
   "id": "ca1a1821-e625-42c4-b7dd-bed6a37ac4cc",
   "metadata": {},
   "outputs": [],
   "source": [
    "calc = Vasp(command=f'mpirun -n 36 vasp_std' ,\n",
    "           kpts={'path':'LGXKG', 'npoints': 100},\n",
    "           encut=240,\n",
    "           isym=2,\n",
    "           icharg=2,\n",
    "        lorbit=11,\n",
    "            directory='',\n",
    "           xc='PBE')\n",
    "supercell.calc = calc\n",
    "supercell.get_potential_energy()\n",
    "bs = supercell.calc.band_structure()\n",
    "bs.plot(emin=0, emax=20)"
   ]
  },
  {
   "cell_type": "code",
   "execution_count": null,
   "id": "9712110f-9262-44ee-b525-0c73e9e3281b",
   "metadata": {},
   "outputs": [],
   "source": [
    "from ase.dft import bandgap\n",
    "bandgap.bandgap(supercell.calc)"
   ]
  },
  {
   "cell_type": "markdown",
   "id": "40758ce2-f646-4a66-9cea-9182ca0f74ff",
   "metadata": {},
   "source": [
    "# MD\n",
    "https://wiki.fysik.dtu.dk/ase/ase/md.html#module-ase.mdhttps://wiki.fysik.dtu.dk/ase/ase/md.html#module-ase.md"
   ]
  },
  {
   "cell_type": "code",
   "execution_count": null,
   "id": "0fc04d59-7ac0-4833-b31d-fb08b092c335",
   "metadata": {},
   "outputs": [],
   "source": [
    "from ase.lattice.cubic import FaceCenteredCubic\n",
    "from ase.md.velocitydistribution import MaxwellBoltzmannDistribution\n",
    "from ase.md.langevin import Langevin\n",
    "from ase import units\n",
    "\n",
    "size = 3\n",
    "# Set up a crystal\n",
    "atoms = FaceCenteredCubic(directions=[[1, 0, 0], [0, 1, 0], [0, 0, 1]],\n",
    "                          symbol='Cu',\n",
    "                          size=(size, size, size),\n",
    "                          pbc=True)\n",
    "\n",
    "# Describe the interatomic interactions with the Effective Medium Theory\n",
    "atoms.calc = EMT()\n",
    "\n",
    "# Set the momenta corresponding to T=300K\n",
    "MaxwellBoltzmannDistribution(atoms, 300 * units.kB)\n",
    "\n",
    "# We want to run MD with constant energy using the VelocityVerlet algorithm.\n",
    "dyn = Langevin(atoms, 5*units.fs, 300*units.kB, 0.002)  # 5 fs time step.\n",
    "\n",
    "\n",
    "def printenergy(a=atoms):\n",
    "    \"\"\"Function to print the potential, kinetic and total energy\"\"\"\n",
    "    epot = a.get_potential_energy() / len(a)\n",
    "    ekin = a.get_kinetic_energy() / len(a)\n",
    "    print('Energy per atom: Epot = %.3feV  Ekin = %.3feV (T=%3.0fK)  '\n",
    "          'Etot = %.3feV' % (epot, ekin, ekin / (1.5 * units.kB), epot + ekin))\n",
    "\n",
    "\n",
    "# Now run the dynamics\n",
    "dyn.attach(printenergy, interval=10)\n",
    "traj = Trajectory('Cu.traj', 'w', atoms)\n",
    "dyn.attach(traj.write, interval=10)\n",
    "# Now run the dynamics\n",
    "dyn.run(200)"
   ]
  },
  {
   "cell_type": "code",
   "execution_count": null,
   "id": "d31b0236-4907-4a9d-8f93-4dc33bb8fb63",
   "metadata": {},
   "outputs": [],
   "source": [
    "traj = Trajectory('Cu.traj')\n",
    "ngl.view_ngl(traj, w=500, h=500)"
   ]
  },
  {
   "cell_type": "markdown",
   "id": "c40f4c57-5389-4d68-8793-d1e252ed5a9f",
   "metadata": {},
   "source": [
    "# NEB\n",
    "https://wiki.fysik.dtu.dk/ase/ase/neb.html#module-ase.nebhttps://wiki.fysik.dtu.dk/ase/ase/neb.html#module-ase.neb"
   ]
  },
  {
   "cell_type": "code",
   "execution_count": null,
   "id": "8bf8f0ca-78f5-47c3-9bee-9bab35bd79c1",
   "metadata": {},
   "outputs": [],
   "source": [
    "from ase.build import fcc100, add_adsorbate\n",
    "from ase.constraints import FixAtoms\n",
    "from ase.calculators.emt import EMT\n",
    "from ase.optimize import QuasiNewton\n",
    "\n",
    "# 2x2-Al(001) surface with 3 layers and an\n",
    "# Au atom adsorbed in a hollow site:\n",
    "slab = fcc100('Al', size=(2, 2, 3))\n",
    "add_adsorbate(slab, 'Au', 1.7, 'hollow')\n",
    "slab.center(axis=2, vacuum=4.0)\n",
    "\n",
    "# Make sure the structure is correct:\n",
    "# view(slab)\n",
    "\n",
    "# Fix second and third layers:\n",
    "mask = [atom.tag > 1 for atom in slab]\n",
    "# print(mask)\n",
    "slab.set_constraint(FixAtoms(mask=mask))\n",
    "\n",
    "# Use EMT potential:\n",
    "slab.calc = EMT()\n",
    "\n",
    "# Initial state:\n",
    "qn = QuasiNewton(slab, trajectory='initial.traj')\n",
    "qn.run(fmax=0.05)\n",
    "\n",
    "# Final state:\n",
    "slab[-1].x += slab.get_cell()[0, 0] / 2\n",
    "qn = QuasiNewton(slab, trajectory='final.traj')\n",
    "qn.run(fmax=0.05)\n",
    "ngl.view_ngl(slab, w=500, h=500)"
   ]
  },
  {
   "cell_type": "code",
   "execution_count": null,
   "id": "8c6e2bdf-2d93-41cb-a405-978c8d4caff9",
   "metadata": {},
   "outputs": [],
   "source": [
    "from ase.io import read\n",
    "from ase.constraints import FixAtoms\n",
    "from ase.calculators.emt import EMT\n",
    "from ase.neb import NEB\n",
    "from ase.optimize import BFGS\n",
    "\n",
    "initial = read('initial.traj')\n",
    "final = read('final.traj')\n",
    "\n",
    "constraint = FixAtoms(mask=[atom.tag > 1 for atom in initial])\n",
    "\n",
    "images = [initial]\n",
    "for i in range(3):\n",
    "    image = initial.copy()\n",
    "    image.calc = EMT()\n",
    "    image.set_constraint(constraint)\n",
    "    images.append(image)\n",
    "\n",
    "images.append(final)\n",
    "\n",
    "neb = NEB(images)\n",
    "neb.interpolate()\n",
    "qn = BFGS(neb, trajectory='neb.traj')\n",
    "qn.run(fmax=0.05)"
   ]
  },
  {
   "cell_type": "code",
   "execution_count": null,
   "id": "aa9bbcd7-3f1f-4c90-a93b-817bcb9afba0",
   "metadata": {},
   "outputs": [],
   "source": [
    "ngl.view_ngl(images, w=500, h=500)"
   ]
  },
  {
   "cell_type": "code",
   "execution_count": null,
   "id": "6ab99e48-1d64-4b1e-92e3-eb609e1a587a",
   "metadata": {},
   "outputs": [],
   "source": [
    "import matplotlib.pyplot as plt\n",
    "from ase.neb import NEBTools\n",
    "from ase.io import read\n",
    "\n",
    "images = read('neb.traj@-5:')\n",
    "\n",
    "nebtools = NEBTools(images)\n",
    "\n",
    "# Get the calculated barrier and the energy change of the reaction.\n",
    "Ef, dE = nebtools.get_barrier()\n",
    "\n",
    "# Get the barrier without any interpolation between highest images.\n",
    "Ef, dE = nebtools.get_barrier(fit=False)\n",
    "\n",
    "# Get the actual maximum force at this point in the simulation.\n",
    "max_force = nebtools.get_fmax()\n",
    "\n",
    "# Create a figure like that coming from ASE-GUI.\n",
    "fig = nebtools.plot_band()\n",
    "\n"
   ]
  },
  {
   "cell_type": "markdown",
   "id": "c1453c0c-ff6a-4d7b-8a42-17a7ed0ecdb5",
   "metadata": {},
   "source": [
    "# Many more\n",
    "https://wiki.fysik.dtu.dk/ase/ase/ase.html"
   ]
  },
  {
   "cell_type": "markdown",
   "id": "f81a8e91-d452-4882-a250-95497269e022",
   "metadata": {},
   "source": [
    "# Two Stage Minimization"
   ]
  },
  {
   "cell_type": "code",
   "execution_count": null,
   "id": "6d96e4e5-b7c1-4925-8bda-f72619868d80",
   "metadata": {
    "tags": []
   },
   "outputs": [],
   "source": [
    "a = 4.212\n",
    "mgo = Atoms([Atom('Mg', (0, 0, 0)), \n",
    "               Atom('O', (a/2, 0, 0))])\n",
    "mgo.set_cell([[a/2, a/2, 0], \n",
    "                [0, a/2, a/2],\n",
    "                [a/2, 0, a/2]])\n",
    "mgo.set_pbc(True)\n",
    "# ngl.view_ngl(mgo, w=300, h=300)"
   ]
  },
  {
   "cell_type": "code",
   "execution_count": null,
   "id": "026e4e95-7965-47c5-b5ea-a1875aa9b3e8",
   "metadata": {},
   "outputs": [],
   "source": [
    "mgo_super = mgo*6"
   ]
  },
  {
   "cell_type": "code",
   "execution_count": null,
   "id": "c3b2d366-137e-4593-a4cc-9f6cb4c9e051",
   "metadata": {
    "tags": []
   },
   "outputs": [],
   "source": [
    "ngl.view_ngl(mgo_super, w=500, h=500)"
   ]
  },
  {
   "cell_type": "code",
   "execution_count": null,
   "id": "d3f3a274-221b-42d0-996d-621b9aa6f0e5",
   "metadata": {},
   "outputs": [],
   "source": [
    "i_remove = 257\n",
    "print(mgo_super[i_remove])\n",
    "mgo_super[i_remove].tag = 1\n",
    "print('--------------------------------')\n",
    "rc = a\n",
    "for i, atom in enumerate(mgo_super):\n",
    "    if np.linalg.norm(atom.position- mgo_super[i_remove].position) < rc:\n",
    "        mgo_super[i].tag = 1\n",
    "        print(mgo_super[i])\n",
    "    else:\n",
    "        mgo_super[i].tag = 0"
   ]
  },
  {
   "cell_type": "code",
   "execution_count": null,
   "id": "0c8e66d1-865b-4edb-80de-e08152708653",
   "metadata": {
    "tags": []
   },
   "outputs": [],
   "source": [
    "ngl.view_ngl(mgo_super[mgo_super.get_tags() == 1], w=500, h=500)"
   ]
  },
  {
   "cell_type": "code",
   "execution_count": null,
   "id": "abbbbcd0-295a-4722-921b-9a02a252bc6e",
   "metadata": {},
   "outputs": [],
   "source": [
    "mgo_super.pop(i_remove)"
   ]
  },
  {
   "cell_type": "code",
   "execution_count": null,
   "id": "7e8c0315-448b-43e4-83a0-e2a37ef47729",
   "metadata": {
    "tags": []
   },
   "outputs": [],
   "source": [
    "ngl.view_ngl(mgo_super[mgo_super.get_tags() == 1], w=500, h=500)"
   ]
  },
  {
   "cell_type": "code",
   "execution_count": null,
   "id": "b0139dc1-df06-4b85-b99f-d5ce1d65ab9e",
   "metadata": {},
   "outputs": [],
   "source": [
    "from ase.lattice.cubic import FaceCenteredCubic\n",
    "from ase import Atoms, Atom\n",
    "from ase.calculators.kim.kim import KIM\n",
    "\n",
    "# https://openkim.org/id/LJ_ElliottAkerson_2015_Universal__MO_959249795837_003\n",
    "mgo_super.calc = KIM(\"LJ_ElliottAkerson_2015_Universal__MO_959249795837_003\")\n",
    "dyn = BFGS(mgo_super, trajectory='MgO_super.traj') # Broyden–Fletcher–Goldfarb–Shanno algorithm\n",
    "dyn.run(fmax=0.005)\n",
    "\n",
    "# energy = atoms.get_potential_energy()\n",
    "# print(\"Potential energy: {} eV\".format(energy))"
   ]
  },
  {
   "cell_type": "code",
   "execution_count": null,
   "id": "605ba010-642f-48f9-9931-21afd10dd41b",
   "metadata": {
    "tags": []
   },
   "outputs": [],
   "source": [
    "traj = Trajectory('MgO_super.traj')\n",
    "traj_mod =[atoms[atoms.get_tags() == 1] for atoms in traj ]\n",
    "ngl.view_ngl(traj_mod, w=500, h=500)"
   ]
  },
  {
   "cell_type": "code",
   "execution_count": null,
   "id": "7036891c-5d49-4ddc-bd2c-ed353b412bf5",
   "metadata": {},
   "outputs": [],
   "source": [
    "calc = Vasp(command=f'mpirun -n 36 vasp_std' ,\n",
    "            kpts=(1, 1, 1),\n",
    "            istart = 0, \n",
    "            icharg=2,\n",
    "            encut = 600,\n",
    "            ismear = 0, \n",
    "            sigma = 0.01,\n",
    "            ncore = 1,\n",
    "            nbands = 1920,\n",
    "            prec = \"Accurate\",\n",
    "            ediff = 1e-6,\n",
    "            gga = \"PS\",\n",
    "            ibrion = 2,\n",
    "            nelmin = 4,\n",
    "            potim = 0.5,\n",
    "            isif = 0,\n",
    "            ediffg = -0.01,\n",
    "            nsw = 20,\n",
    "           setups={'Mg': '', 'O': ''},\n",
    "           xc='PBE')\n",
    "\n",
    "potcar_list = ['Mg', 'O']\n",
    "for pot in potcar_list:\n",
    "    pp_source_dir = '/home/lkgroup/potentials/VASP/PBE/'\n",
    "    with open(pp_source_dir + pot + '/POTCAR', 'r') as f:\n",
    "        potcar = f.read()\n",
    "    try:\n",
    "        os.makedirs(f'/home/oz/sync/vasp_pp/potpaw_PBE/{pot}/')\n",
    "    except FileExistsError:\n",
    "        pass\n",
    "    with open(f'/home/oz/sync/vasp_pp/potpaw_PBE/{pot}/POTCAR', 'w') as f:\n",
    "        f.write(potcar)"
   ]
  },
  {
   "cell_type": "code",
   "execution_count": null,
   "id": "0bc9aa25-a45e-4a42-b13d-0796cc032e9b",
   "metadata": {
    "tags": []
   },
   "outputs": [],
   "source": [
    "mgo_super.calc = calc\n",
    "mgo_super.get_potential_energy()"
   ]
  }
 ],
 "metadata": {
  "kernelspec": {
   "display_name": "Python 3 (ipykernel)",
   "language": "python",
   "name": "python3"
  },
  "language_info": {
   "codemirror_mode": {
    "name": "ipython",
    "version": 3
   },
   "file_extension": ".py",
   "mimetype": "text/x-python",
   "name": "python",
   "nbconvert_exporter": "python",
   "pygments_lexer": "ipython3",
   "version": "3.9.7"
  }
 },
 "nbformat": 4,
 "nbformat_minor": 5
}
